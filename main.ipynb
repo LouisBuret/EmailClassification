{
 "cells": [
  {
   "cell_type": "code",
   "execution_count": 2,
   "id": "2ec4bf65",
   "metadata": {},
   "outputs": [],
   "source": [
    "import pandas as pd\n",
    "import numpy as np\n",
    "import spacy\n",
    "from sklearn.svm import SVC\n",
    "from sklearn.model_selection import train_test_split\n",
    "from sklearn.metrics import confusion_matrix, f1_score, accuracy_score\n",
    "import matplotlib.pyplot as plt\n",
    "import seaborn as sns\n",
    "import keras\n",
    "# from tensorflow import keras\n",
    "from keras.saving import load_model\n",
    "from keras.models import Sequential\n",
    "from keras.layers import Dense, Dropout, Flatten, Activation, Input, Conv2D, MaxPooling2D\n",
    "from keras.utils import to_categorical\n",
    "from keras import backend as K"
   ]
  },
  {
   "cell_type": "code",
   "execution_count": 3,
   "id": "6c938df8",
   "metadata": {},
   "outputs": [],
   "source": [
    "df = pd.read_csv('email_text.csv')"
   ]
  },
  {
   "cell_type": "code",
   "execution_count": 4,
   "id": "027314aa",
   "metadata": {},
   "outputs": [],
   "source": [
    "nlp = spacy.load('en_core_web_lg')"
   ]
  },
  {
   "cell_type": "code",
   "execution_count": 5,
   "id": "d6e11f40",
   "metadata": {},
   "outputs": [],
   "source": [
    "docs = []\n",
    "vectors = []\n",
    "\n",
    "for doc in nlp.pipe(list(df['text'].astype('unicode').values)):\n",
    "    docs.append(doc)\n",
    "    vectors.append(doc.vector)\n",
    "\n",
    "df['docs'] = docs\n",
    "df['vectors'] = vectors"
   ]
  },
  {
   "cell_type": "code",
   "execution_count": 1,
   "id": "cabb255c",
   "metadata": {},
   "outputs": [
    {
     "ename": "NameError",
     "evalue": "name 'df' is not defined",
     "output_type": "error",
     "traceback": [
      "\u001b[31m---------------------------------------------------------------------------\u001b[39m",
      "\u001b[31mNameError\u001b[39m                                 Traceback (most recent call last)",
      "\u001b[36mCell\u001b[39m\u001b[36m \u001b[39m\u001b[32mIn[1]\u001b[39m\u001b[32m, line 1\u001b[39m\n\u001b[32m----> \u001b[39m\u001b[32m1\u001b[39m \u001b[43mdf\u001b[49m.head()\n",
      "\u001b[31mNameError\u001b[39m: name 'df' is not defined"
     ]
    }
   ],
   "source": [
    "df.head()"
   ]
  },
  {
   "cell_type": "code",
   "execution_count": 6,
   "id": "b45df339",
   "metadata": {},
   "outputs": [],
   "source": [
    "x_train, x_test, y_train, y_test = train_test_split(vectors, df['label'], test_size=0.15, random_state=42)"
   ]
  },
  {
   "cell_type": "code",
   "execution_count": 7,
   "id": "21a87b78",
   "metadata": {},
   "outputs": [],
   "source": [
    "svc = SVC(kernel='linear')"
   ]
  },
  {
   "cell_type": "code",
   "execution_count": 8,
   "id": "9a385489",
   "metadata": {},
   "outputs": [
    {
     "data": {
      "text/html": [
       "<style>#sk-container-id-1 {\n",
       "  /* Definition of color scheme common for light and dark mode */\n",
       "  --sklearn-color-text: #000;\n",
       "  --sklearn-color-text-muted: #666;\n",
       "  --sklearn-color-line: gray;\n",
       "  /* Definition of color scheme for unfitted estimators */\n",
       "  --sklearn-color-unfitted-level-0: #fff5e6;\n",
       "  --sklearn-color-unfitted-level-1: #f6e4d2;\n",
       "  --sklearn-color-unfitted-level-2: #ffe0b3;\n",
       "  --sklearn-color-unfitted-level-3: chocolate;\n",
       "  /* Definition of color scheme for fitted estimators */\n",
       "  --sklearn-color-fitted-level-0: #f0f8ff;\n",
       "  --sklearn-color-fitted-level-1: #d4ebff;\n",
       "  --sklearn-color-fitted-level-2: #b3dbfd;\n",
       "  --sklearn-color-fitted-level-3: cornflowerblue;\n",
       "\n",
       "  /* Specific color for light theme */\n",
       "  --sklearn-color-text-on-default-background: var(--sg-text-color, var(--theme-code-foreground, var(--jp-content-font-color1, black)));\n",
       "  --sklearn-color-background: var(--sg-background-color, var(--theme-background, var(--jp-layout-color0, white)));\n",
       "  --sklearn-color-border-box: var(--sg-text-color, var(--theme-code-foreground, var(--jp-content-font-color1, black)));\n",
       "  --sklearn-color-icon: #696969;\n",
       "\n",
       "  @media (prefers-color-scheme: dark) {\n",
       "    /* Redefinition of color scheme for dark theme */\n",
       "    --sklearn-color-text-on-default-background: var(--sg-text-color, var(--theme-code-foreground, var(--jp-content-font-color1, white)));\n",
       "    --sklearn-color-background: var(--sg-background-color, var(--theme-background, var(--jp-layout-color0, #111)));\n",
       "    --sklearn-color-border-box: var(--sg-text-color, var(--theme-code-foreground, var(--jp-content-font-color1, white)));\n",
       "    --sklearn-color-icon: #878787;\n",
       "  }\n",
       "}\n",
       "\n",
       "#sk-container-id-1 {\n",
       "  color: var(--sklearn-color-text);\n",
       "}\n",
       "\n",
       "#sk-container-id-1 pre {\n",
       "  padding: 0;\n",
       "}\n",
       "\n",
       "#sk-container-id-1 input.sk-hidden--visually {\n",
       "  border: 0;\n",
       "  clip: rect(1px 1px 1px 1px);\n",
       "  clip: rect(1px, 1px, 1px, 1px);\n",
       "  height: 1px;\n",
       "  margin: -1px;\n",
       "  overflow: hidden;\n",
       "  padding: 0;\n",
       "  position: absolute;\n",
       "  width: 1px;\n",
       "}\n",
       "\n",
       "#sk-container-id-1 div.sk-dashed-wrapped {\n",
       "  border: 1px dashed var(--sklearn-color-line);\n",
       "  margin: 0 0.4em 0.5em 0.4em;\n",
       "  box-sizing: border-box;\n",
       "  padding-bottom: 0.4em;\n",
       "  background-color: var(--sklearn-color-background);\n",
       "}\n",
       "\n",
       "#sk-container-id-1 div.sk-container {\n",
       "  /* jupyter's `normalize.less` sets `[hidden] { display: none; }`\n",
       "     but bootstrap.min.css set `[hidden] { display: none !important; }`\n",
       "     so we also need the `!important` here to be able to override the\n",
       "     default hidden behavior on the sphinx rendered scikit-learn.org.\n",
       "     See: https://github.com/scikit-learn/scikit-learn/issues/21755 */\n",
       "  display: inline-block !important;\n",
       "  position: relative;\n",
       "}\n",
       "\n",
       "#sk-container-id-1 div.sk-text-repr-fallback {\n",
       "  display: none;\n",
       "}\n",
       "\n",
       "div.sk-parallel-item,\n",
       "div.sk-serial,\n",
       "div.sk-item {\n",
       "  /* draw centered vertical line to link estimators */\n",
       "  background-image: linear-gradient(var(--sklearn-color-text-on-default-background), var(--sklearn-color-text-on-default-background));\n",
       "  background-size: 2px 100%;\n",
       "  background-repeat: no-repeat;\n",
       "  background-position: center center;\n",
       "}\n",
       "\n",
       "/* Parallel-specific style estimator block */\n",
       "\n",
       "#sk-container-id-1 div.sk-parallel-item::after {\n",
       "  content: \"\";\n",
       "  width: 100%;\n",
       "  border-bottom: 2px solid var(--sklearn-color-text-on-default-background);\n",
       "  flex-grow: 1;\n",
       "}\n",
       "\n",
       "#sk-container-id-1 div.sk-parallel {\n",
       "  display: flex;\n",
       "  align-items: stretch;\n",
       "  justify-content: center;\n",
       "  background-color: var(--sklearn-color-background);\n",
       "  position: relative;\n",
       "}\n",
       "\n",
       "#sk-container-id-1 div.sk-parallel-item {\n",
       "  display: flex;\n",
       "  flex-direction: column;\n",
       "}\n",
       "\n",
       "#sk-container-id-1 div.sk-parallel-item:first-child::after {\n",
       "  align-self: flex-end;\n",
       "  width: 50%;\n",
       "}\n",
       "\n",
       "#sk-container-id-1 div.sk-parallel-item:last-child::after {\n",
       "  align-self: flex-start;\n",
       "  width: 50%;\n",
       "}\n",
       "\n",
       "#sk-container-id-1 div.sk-parallel-item:only-child::after {\n",
       "  width: 0;\n",
       "}\n",
       "\n",
       "/* Serial-specific style estimator block */\n",
       "\n",
       "#sk-container-id-1 div.sk-serial {\n",
       "  display: flex;\n",
       "  flex-direction: column;\n",
       "  align-items: center;\n",
       "  background-color: var(--sklearn-color-background);\n",
       "  padding-right: 1em;\n",
       "  padding-left: 1em;\n",
       "}\n",
       "\n",
       "\n",
       "/* Toggleable style: style used for estimator/Pipeline/ColumnTransformer box that is\n",
       "clickable and can be expanded/collapsed.\n",
       "- Pipeline and ColumnTransformer use this feature and define the default style\n",
       "- Estimators will overwrite some part of the style using the `sk-estimator` class\n",
       "*/\n",
       "\n",
       "/* Pipeline and ColumnTransformer style (default) */\n",
       "\n",
       "#sk-container-id-1 div.sk-toggleable {\n",
       "  /* Default theme specific background. It is overwritten whether we have a\n",
       "  specific estimator or a Pipeline/ColumnTransformer */\n",
       "  background-color: var(--sklearn-color-background);\n",
       "}\n",
       "\n",
       "/* Toggleable label */\n",
       "#sk-container-id-1 label.sk-toggleable__label {\n",
       "  cursor: pointer;\n",
       "  display: flex;\n",
       "  width: 100%;\n",
       "  margin-bottom: 0;\n",
       "  padding: 0.5em;\n",
       "  box-sizing: border-box;\n",
       "  text-align: center;\n",
       "  align-items: start;\n",
       "  justify-content: space-between;\n",
       "  gap: 0.5em;\n",
       "}\n",
       "\n",
       "#sk-container-id-1 label.sk-toggleable__label .caption {\n",
       "  font-size: 0.6rem;\n",
       "  font-weight: lighter;\n",
       "  color: var(--sklearn-color-text-muted);\n",
       "}\n",
       "\n",
       "#sk-container-id-1 label.sk-toggleable__label-arrow:before {\n",
       "  /* Arrow on the left of the label */\n",
       "  content: \"▸\";\n",
       "  float: left;\n",
       "  margin-right: 0.25em;\n",
       "  color: var(--sklearn-color-icon);\n",
       "}\n",
       "\n",
       "#sk-container-id-1 label.sk-toggleable__label-arrow:hover:before {\n",
       "  color: var(--sklearn-color-text);\n",
       "}\n",
       "\n",
       "/* Toggleable content - dropdown */\n",
       "\n",
       "#sk-container-id-1 div.sk-toggleable__content {\n",
       "  max-height: 0;\n",
       "  max-width: 0;\n",
       "  overflow: hidden;\n",
       "  text-align: left;\n",
       "  /* unfitted */\n",
       "  background-color: var(--sklearn-color-unfitted-level-0);\n",
       "}\n",
       "\n",
       "#sk-container-id-1 div.sk-toggleable__content.fitted {\n",
       "  /* fitted */\n",
       "  background-color: var(--sklearn-color-fitted-level-0);\n",
       "}\n",
       "\n",
       "#sk-container-id-1 div.sk-toggleable__content pre {\n",
       "  margin: 0.2em;\n",
       "  border-radius: 0.25em;\n",
       "  color: var(--sklearn-color-text);\n",
       "  /* unfitted */\n",
       "  background-color: var(--sklearn-color-unfitted-level-0);\n",
       "}\n",
       "\n",
       "#sk-container-id-1 div.sk-toggleable__content.fitted pre {\n",
       "  /* unfitted */\n",
       "  background-color: var(--sklearn-color-fitted-level-0);\n",
       "}\n",
       "\n",
       "#sk-container-id-1 input.sk-toggleable__control:checked~div.sk-toggleable__content {\n",
       "  /* Expand drop-down */\n",
       "  max-height: 200px;\n",
       "  max-width: 100%;\n",
       "  overflow: auto;\n",
       "}\n",
       "\n",
       "#sk-container-id-1 input.sk-toggleable__control:checked~label.sk-toggleable__label-arrow:before {\n",
       "  content: \"▾\";\n",
       "}\n",
       "\n",
       "/* Pipeline/ColumnTransformer-specific style */\n",
       "\n",
       "#sk-container-id-1 div.sk-label input.sk-toggleable__control:checked~label.sk-toggleable__label {\n",
       "  color: var(--sklearn-color-text);\n",
       "  background-color: var(--sklearn-color-unfitted-level-2);\n",
       "}\n",
       "\n",
       "#sk-container-id-1 div.sk-label.fitted input.sk-toggleable__control:checked~label.sk-toggleable__label {\n",
       "  background-color: var(--sklearn-color-fitted-level-2);\n",
       "}\n",
       "\n",
       "/* Estimator-specific style */\n",
       "\n",
       "/* Colorize estimator box */\n",
       "#sk-container-id-1 div.sk-estimator input.sk-toggleable__control:checked~label.sk-toggleable__label {\n",
       "  /* unfitted */\n",
       "  background-color: var(--sklearn-color-unfitted-level-2);\n",
       "}\n",
       "\n",
       "#sk-container-id-1 div.sk-estimator.fitted input.sk-toggleable__control:checked~label.sk-toggleable__label {\n",
       "  /* fitted */\n",
       "  background-color: var(--sklearn-color-fitted-level-2);\n",
       "}\n",
       "\n",
       "#sk-container-id-1 div.sk-label label.sk-toggleable__label,\n",
       "#sk-container-id-1 div.sk-label label {\n",
       "  /* The background is the default theme color */\n",
       "  color: var(--sklearn-color-text-on-default-background);\n",
       "}\n",
       "\n",
       "/* On hover, darken the color of the background */\n",
       "#sk-container-id-1 div.sk-label:hover label.sk-toggleable__label {\n",
       "  color: var(--sklearn-color-text);\n",
       "  background-color: var(--sklearn-color-unfitted-level-2);\n",
       "}\n",
       "\n",
       "/* Label box, darken color on hover, fitted */\n",
       "#sk-container-id-1 div.sk-label.fitted:hover label.sk-toggleable__label.fitted {\n",
       "  color: var(--sklearn-color-text);\n",
       "  background-color: var(--sklearn-color-fitted-level-2);\n",
       "}\n",
       "\n",
       "/* Estimator label */\n",
       "\n",
       "#sk-container-id-1 div.sk-label label {\n",
       "  font-family: monospace;\n",
       "  font-weight: bold;\n",
       "  display: inline-block;\n",
       "  line-height: 1.2em;\n",
       "}\n",
       "\n",
       "#sk-container-id-1 div.sk-label-container {\n",
       "  text-align: center;\n",
       "}\n",
       "\n",
       "/* Estimator-specific */\n",
       "#sk-container-id-1 div.sk-estimator {\n",
       "  font-family: monospace;\n",
       "  border: 1px dotted var(--sklearn-color-border-box);\n",
       "  border-radius: 0.25em;\n",
       "  box-sizing: border-box;\n",
       "  margin-bottom: 0.5em;\n",
       "  /* unfitted */\n",
       "  background-color: var(--sklearn-color-unfitted-level-0);\n",
       "}\n",
       "\n",
       "#sk-container-id-1 div.sk-estimator.fitted {\n",
       "  /* fitted */\n",
       "  background-color: var(--sklearn-color-fitted-level-0);\n",
       "}\n",
       "\n",
       "/* on hover */\n",
       "#sk-container-id-1 div.sk-estimator:hover {\n",
       "  /* unfitted */\n",
       "  background-color: var(--sklearn-color-unfitted-level-2);\n",
       "}\n",
       "\n",
       "#sk-container-id-1 div.sk-estimator.fitted:hover {\n",
       "  /* fitted */\n",
       "  background-color: var(--sklearn-color-fitted-level-2);\n",
       "}\n",
       "\n",
       "/* Specification for estimator info (e.g. \"i\" and \"?\") */\n",
       "\n",
       "/* Common style for \"i\" and \"?\" */\n",
       "\n",
       ".sk-estimator-doc-link,\n",
       "a:link.sk-estimator-doc-link,\n",
       "a:visited.sk-estimator-doc-link {\n",
       "  float: right;\n",
       "  font-size: smaller;\n",
       "  line-height: 1em;\n",
       "  font-family: monospace;\n",
       "  background-color: var(--sklearn-color-background);\n",
       "  border-radius: 1em;\n",
       "  height: 1em;\n",
       "  width: 1em;\n",
       "  text-decoration: none !important;\n",
       "  margin-left: 0.5em;\n",
       "  text-align: center;\n",
       "  /* unfitted */\n",
       "  border: var(--sklearn-color-unfitted-level-1) 1pt solid;\n",
       "  color: var(--sklearn-color-unfitted-level-1);\n",
       "}\n",
       "\n",
       ".sk-estimator-doc-link.fitted,\n",
       "a:link.sk-estimator-doc-link.fitted,\n",
       "a:visited.sk-estimator-doc-link.fitted {\n",
       "  /* fitted */\n",
       "  border: var(--sklearn-color-fitted-level-1) 1pt solid;\n",
       "  color: var(--sklearn-color-fitted-level-1);\n",
       "}\n",
       "\n",
       "/* On hover */\n",
       "div.sk-estimator:hover .sk-estimator-doc-link:hover,\n",
       ".sk-estimator-doc-link:hover,\n",
       "div.sk-label-container:hover .sk-estimator-doc-link:hover,\n",
       ".sk-estimator-doc-link:hover {\n",
       "  /* unfitted */\n",
       "  background-color: var(--sklearn-color-unfitted-level-3);\n",
       "  color: var(--sklearn-color-background);\n",
       "  text-decoration: none;\n",
       "}\n",
       "\n",
       "div.sk-estimator.fitted:hover .sk-estimator-doc-link.fitted:hover,\n",
       ".sk-estimator-doc-link.fitted:hover,\n",
       "div.sk-label-container:hover .sk-estimator-doc-link.fitted:hover,\n",
       ".sk-estimator-doc-link.fitted:hover {\n",
       "  /* fitted */\n",
       "  background-color: var(--sklearn-color-fitted-level-3);\n",
       "  color: var(--sklearn-color-background);\n",
       "  text-decoration: none;\n",
       "}\n",
       "\n",
       "/* Span, style for the box shown on hovering the info icon */\n",
       ".sk-estimator-doc-link span {\n",
       "  display: none;\n",
       "  z-index: 9999;\n",
       "  position: relative;\n",
       "  font-weight: normal;\n",
       "  right: .2ex;\n",
       "  padding: .5ex;\n",
       "  margin: .5ex;\n",
       "  width: min-content;\n",
       "  min-width: 20ex;\n",
       "  max-width: 50ex;\n",
       "  color: var(--sklearn-color-text);\n",
       "  box-shadow: 2pt 2pt 4pt #999;\n",
       "  /* unfitted */\n",
       "  background: var(--sklearn-color-unfitted-level-0);\n",
       "  border: .5pt solid var(--sklearn-color-unfitted-level-3);\n",
       "}\n",
       "\n",
       ".sk-estimator-doc-link.fitted span {\n",
       "  /* fitted */\n",
       "  background: var(--sklearn-color-fitted-level-0);\n",
       "  border: var(--sklearn-color-fitted-level-3);\n",
       "}\n",
       "\n",
       ".sk-estimator-doc-link:hover span {\n",
       "  display: block;\n",
       "}\n",
       "\n",
       "/* \"?\"-specific style due to the `<a>` HTML tag */\n",
       "\n",
       "#sk-container-id-1 a.estimator_doc_link {\n",
       "  float: right;\n",
       "  font-size: 1rem;\n",
       "  line-height: 1em;\n",
       "  font-family: monospace;\n",
       "  background-color: var(--sklearn-color-background);\n",
       "  border-radius: 1rem;\n",
       "  height: 1rem;\n",
       "  width: 1rem;\n",
       "  text-decoration: none;\n",
       "  /* unfitted */\n",
       "  color: var(--sklearn-color-unfitted-level-1);\n",
       "  border: var(--sklearn-color-unfitted-level-1) 1pt solid;\n",
       "}\n",
       "\n",
       "#sk-container-id-1 a.estimator_doc_link.fitted {\n",
       "  /* fitted */\n",
       "  border: var(--sklearn-color-fitted-level-1) 1pt solid;\n",
       "  color: var(--sklearn-color-fitted-level-1);\n",
       "}\n",
       "\n",
       "/* On hover */\n",
       "#sk-container-id-1 a.estimator_doc_link:hover {\n",
       "  /* unfitted */\n",
       "  background-color: var(--sklearn-color-unfitted-level-3);\n",
       "  color: var(--sklearn-color-background);\n",
       "  text-decoration: none;\n",
       "}\n",
       "\n",
       "#sk-container-id-1 a.estimator_doc_link.fitted:hover {\n",
       "  /* fitted */\n",
       "  background-color: var(--sklearn-color-fitted-level-3);\n",
       "}\n",
       "</style><div id=\"sk-container-id-1\" class=\"sk-top-container\"><div class=\"sk-text-repr-fallback\"><pre>SVC(kernel=&#x27;linear&#x27;)</pre><b>In a Jupyter environment, please rerun this cell to show the HTML representation or trust the notebook. <br />On GitHub, the HTML representation is unable to render, please try loading this page with nbviewer.org.</b></div><div class=\"sk-container\" hidden><div class=\"sk-item\"><div class=\"sk-estimator fitted sk-toggleable\"><input class=\"sk-toggleable__control sk-hidden--visually\" id=\"sk-estimator-id-1\" type=\"checkbox\" checked><label for=\"sk-estimator-id-1\" class=\"sk-toggleable__label fitted sk-toggleable__label-arrow\"><div><div>SVC</div></div><div><a class=\"sk-estimator-doc-link fitted\" rel=\"noreferrer\" target=\"_blank\" href=\"https://scikit-learn.org/1.6/modules/generated/sklearn.svm.SVC.html\">?<span>Documentation for SVC</span></a><span class=\"sk-estimator-doc-link fitted\">i<span>Fitted</span></span></div></label><div class=\"sk-toggleable__content fitted\"><pre>SVC(kernel=&#x27;linear&#x27;)</pre></div> </div></div></div></div>"
      ],
      "text/plain": [
       "SVC(kernel='linear')"
      ]
     },
     "execution_count": 8,
     "metadata": {},
     "output_type": "execute_result"
    }
   ],
   "source": [
    "svc.fit(x_train, y_train)"
   ]
  },
  {
   "cell_type": "code",
   "execution_count": 9,
   "id": "6d1b8626",
   "metadata": {},
   "outputs": [],
   "source": [
    "y_pred = svc.predict(x_test)"
   ]
  },
  {
   "cell_type": "code",
   "execution_count": 10,
   "id": "d13777f0",
   "metadata": {},
   "outputs": [],
   "source": [
    "cm = confusion_matrix(y_test, y_pred)\n",
    "f1 = f1_score(y_test, y_pred)"
   ]
  },
  {
   "cell_type": "code",
   "execution_count": 11,
   "id": "6ea3ddd3",
   "metadata": {},
   "outputs": [
    {
     "data": {
      "text/plain": [
       "0.9739810161920714"
      ]
     },
     "metadata": {},
     "output_type": "display_data"
    }
   ],
   "source": [
    "display(f1)"
   ]
  },
  {
   "cell_type": "code",
   "execution_count": 12,
   "id": "98692ee8",
   "metadata": {},
   "outputs": [
    {
     "data": {
      "image/png": "[encoded data removed]",
      "text/plain": [
       "<Figure size 1000x800 with 2 Axes>"
      ]
     },
     "metadata": {},
     "output_type": "display_data"
    }
   ],
   "source": [
    "plt.figure(figsize=(10, 8))\n",
    "sns.heatmap(cm, annot=True, fmt='g')\n",
    "plt.gca().set_xlabel(\"Predicted\", fontsize=16)\n",
    "plt.gca().set_ylabel(\"True\", fontsize = 16)\n",
    "plt.show()"
   ]
  },
  {
   "cell_type": "code",
   "execution_count": 13,
   "id": "afecf9ec",
   "metadata": {},
   "outputs": [],
   "source": [
    "vector_df = pd.DataFrame(vectors)"
   ]
  },
  {
   "cell_type": "code",
   "execution_count": 14,
   "id": "e90c6948",
   "metadata": {},
   "outputs": [
    {
     "data": {
      "text/html": [
       "<div>\n",
       "<style scoped>\n",
       "    .dataframe tbody tr th:only-of-type {\n",
       "        vertical-align: middle;\n",
       "    }\n",
       "\n",
       "    .dataframe tbody tr th {\n",
       "        vertical-align: top;\n",
       "    }\n",
       "\n",
       "    .dataframe thead th {\n",
       "        text-align: right;\n",
       "    }\n",
       "</style>\n",
       "<table border=\"1\" class=\"dataframe\">\n",
       "  <thead>\n",
       "    <tr style=\"text-align: right;\">\n",
       "      <th></th>\n",
       "      <th>0</th>\n",
       "      <th>1</th>\n",
       "      <th>2</th>\n",
       "      <th>3</th>\n",
       "      <th>4</th>\n",
       "      <th>5</th>\n",
       "      <th>6</th>\n",
       "      <th>7</th>\n",
       "      <th>8</th>\n",
       "      <th>9</th>\n",
       "      <th>...</th>\n",
       "      <th>290</th>\n",
       "      <th>291</th>\n",
       "      <th>292</th>\n",
       "      <th>293</th>\n",
       "      <th>294</th>\n",
       "      <th>295</th>\n",
       "      <th>296</th>\n",
       "      <th>297</th>\n",
       "      <th>298</th>\n",
       "      <th>299</th>\n",
       "    </tr>\n",
       "  </thead>\n",
       "  <tbody>\n",
       "    <tr>\n",
       "      <th>0</th>\n",
       "      <td>0.020407</td>\n",
       "      <td>0.186394</td>\n",
       "      <td>-0.223755</td>\n",
       "      <td>0.074425</td>\n",
       "      <td>0.087116</td>\n",
       "      <td>-0.148284</td>\n",
       "      <td>-0.039051</td>\n",
       "      <td>-0.040254</td>\n",
       "      <td>0.037040</td>\n",
       "      <td>2.280746</td>\n",
       "      <td>...</td>\n",
       "      <td>-0.191366</td>\n",
       "      <td>0.075680</td>\n",
       "      <td>-0.054279</td>\n",
       "      <td>-0.121531</td>\n",
       "      <td>0.100714</td>\n",
       "      <td>0.010305</td>\n",
       "      <td>0.006186</td>\n",
       "      <td>-0.046437</td>\n",
       "      <td>0.050120</td>\n",
       "      <td>0.083462</td>\n",
       "    </tr>\n",
       "    <tr>\n",
       "      <th>1</th>\n",
       "      <td>-0.005342</td>\n",
       "      <td>-0.002421</td>\n",
       "      <td>-0.086904</td>\n",
       "      <td>0.037699</td>\n",
       "      <td>0.028351</td>\n",
       "      <td>0.113485</td>\n",
       "      <td>0.072569</td>\n",
       "      <td>-0.258188</td>\n",
       "      <td>0.087588</td>\n",
       "      <td>1.195955</td>\n",
       "      <td>...</td>\n",
       "      <td>-0.077495</td>\n",
       "      <td>0.005488</td>\n",
       "      <td>0.022490</td>\n",
       "      <td>0.028088</td>\n",
       "      <td>0.079588</td>\n",
       "      <td>-0.098093</td>\n",
       "      <td>0.037508</td>\n",
       "      <td>-0.116859</td>\n",
       "      <td>-0.027848</td>\n",
       "      <td>0.146448</td>\n",
       "    </tr>\n",
       "    <tr>\n",
       "      <th>2</th>\n",
       "      <td>-0.105363</td>\n",
       "      <td>0.163247</td>\n",
       "      <td>-0.240927</td>\n",
       "      <td>0.022671</td>\n",
       "      <td>0.197806</td>\n",
       "      <td>0.024220</td>\n",
       "      <td>0.144255</td>\n",
       "      <td>-0.200788</td>\n",
       "      <td>0.104131</td>\n",
       "      <td>1.159972</td>\n",
       "      <td>...</td>\n",
       "      <td>-0.024645</td>\n",
       "      <td>-0.073293</td>\n",
       "      <td>-0.105712</td>\n",
       "      <td>-0.186111</td>\n",
       "      <td>0.297109</td>\n",
       "      <td>-0.136390</td>\n",
       "      <td>-0.029520</td>\n",
       "      <td>-0.150299</td>\n",
       "      <td>0.116108</td>\n",
       "      <td>0.224963</td>\n",
       "    </tr>\n",
       "    <tr>\n",
       "      <th>3</th>\n",
       "      <td>-0.065160</td>\n",
       "      <td>0.169974</td>\n",
       "      <td>-0.189134</td>\n",
       "      <td>-0.073910</td>\n",
       "      <td>0.068310</td>\n",
       "      <td>0.003586</td>\n",
       "      <td>-0.028931</td>\n",
       "      <td>-0.140860</td>\n",
       "      <td>0.013613</td>\n",
       "      <td>2.234762</td>\n",
       "      <td>...</td>\n",
       "      <td>-0.225698</td>\n",
       "      <td>-0.008102</td>\n",
       "      <td>0.027338</td>\n",
       "      <td>-0.071169</td>\n",
       "      <td>0.093086</td>\n",
       "      <td>-0.047363</td>\n",
       "      <td>-0.054993</td>\n",
       "      <td>-0.042238</td>\n",
       "      <td>0.089142</td>\n",
       "      <td>0.114002</td>\n",
       "    </tr>\n",
       "    <tr>\n",
       "      <th>4</th>\n",
       "      <td>-0.026175</td>\n",
       "      <td>0.128144</td>\n",
       "      <td>-0.125736</td>\n",
       "      <td>-0.087098</td>\n",
       "      <td>0.073217</td>\n",
       "      <td>-0.000248</td>\n",
       "      <td>0.012820</td>\n",
       "      <td>-0.067556</td>\n",
       "      <td>-0.002530</td>\n",
       "      <td>2.163235</td>\n",
       "      <td>...</td>\n",
       "      <td>-0.263583</td>\n",
       "      <td>0.004732</td>\n",
       "      <td>0.011923</td>\n",
       "      <td>-0.069353</td>\n",
       "      <td>0.056981</td>\n",
       "      <td>-0.010251</td>\n",
       "      <td>-0.027309</td>\n",
       "      <td>-0.035690</td>\n",
       "      <td>0.039517</td>\n",
       "      <td>0.144970</td>\n",
       "    </tr>\n",
       "  </tbody>\n",
       "</table>\n",
       "<p>5 rows × 300 columns</p>\n",
       "</div>"
      ],
      "text/plain": [
       "        0         1         2         3         4         5         6    \\\n",
       "0  0.020407  0.186394 -0.223755  0.074425  0.087116 -0.148284 -0.039051   \n",
       "1 -0.005342 -0.002421 -0.086904  0.037699  0.028351  0.113485  0.072569   \n",
       "2 -0.105363  0.163247 -0.240927  0.022671  0.197806  0.024220  0.144255   \n",
       "3 -0.065160  0.169974 -0.189134 -0.073910  0.068310  0.003586 -0.028931   \n",
       "4 -0.026175  0.128144 -0.125736 -0.087098  0.073217 -0.000248  0.012820   \n",
       "\n",
       "        7         8         9    ...       290       291       292       293  \\\n",
       "0 -0.040254  0.037040  2.280746  ... -0.191366  0.075680 -0.054279 -0.121531   \n",
       "1 -0.258188  0.087588  1.195955  ... -0.077495  0.005488  0.022490  0.028088   \n",
       "2 -0.200788  0.104131  1.159972  ... -0.024645 -0.073293 -0.105712 -0.186111   \n",
       "3 -0.140860  0.013613  2.234762  ... -0.225698 -0.008102  0.027338 -0.071169   \n",
       "4 -0.067556 -0.002530  2.163235  ... -0.263583  0.004732  0.011923 -0.069353   \n",
       "\n",
       "        294       295       296       297       298       299  \n",
       "0  0.100714  0.010305  0.006186 -0.046437  0.050120  0.083462  \n",
       "1  0.079588 -0.098093  0.037508 -0.116859 -0.027848  0.146448  \n",
       "2  0.297109 -0.136390 -0.029520 -0.150299  0.116108  0.224963  \n",
       "3  0.093086 -0.047363 -0.054993 -0.042238  0.089142  0.114002  \n",
       "4  0.056981 -0.010251 -0.027309 -0.035690  0.039517  0.144970  \n",
       "\n",
       "[5 rows x 300 columns]"
      ]
     },
     "execution_count": 14,
     "metadata": {},
     "output_type": "execute_result"
    }
   ],
   "source": [
    "vector_df.head()"
   ]
  },
  {
   "cell_type": "code",
   "execution_count": 15,
   "id": "892ff0e6",
   "metadata": {},
   "outputs": [],
   "source": [
    "x_train_dl, x_test_dl, y_train_dl, y_test_dl = train_test_split(vector_df, df['label'], test_size=0.15, random_state=42)"
   ]
  },
  {
   "cell_type": "code",
   "execution_count": 16,
   "id": "06cb0b27",
   "metadata": {},
   "outputs": [],
   "source": [
    "model = Sequential()"
   ]
  },
  {
   "cell_type": "code",
   "execution_count": 17,
   "id": "fd7d240b",
   "metadata": {},
   "outputs": [],
   "source": [
    "model.add(Input((x_train_dl.shape[1],)))\n",
    "model.add(Dense(x_train_dl.shape[1], activation='relu'))\n",
    "model.add(Dense(x_train_dl.shape[1] * 2, activation='relu'))\n",
    "model.add(Dense(16, activation='relu'))\n",
    "model.add(Dense(1, activation='sigmoid'))"
   ]
  },
  {
   "cell_type": "code",
   "execution_count": 18,
   "id": "efe0db40",
   "metadata": {},
   "outputs": [],
   "source": [
    "model.compile(optimizer='adam', loss='binary_crossentropy', metrics=['accuracy'])"
   ]
  },
  {
   "cell_type": "code",
   "execution_count": 19,
   "id": "80db4b3f",
   "metadata": {},
   "outputs": [
    {
     "name": "stdout",
     "output_type": "stream",
     "text": [
      "Epoch 1/50\n",
      "\u001b[1m2566/2566\u001b[0m \u001b[32m━━━━━━━━━━━━━━━━━━━━\u001b[0m\u001b[37m\u001b[0m \u001b[1m21s\u001b[0m 8ms/step - accuracy: 0.9435 - loss: 0.1410 - val_accuracy: 0.9816 - val_loss: 0.0601\n",
      "Epoch 2/50\n",
      "\u001b[1m2566/2566\u001b[0m \u001b[32m━━━━━━━━━━━━━━━━━━━━\u001b[0m\u001b[37m\u001b[0m \u001b[1m17s\u001b[0m 7ms/step - accuracy: 0.9841 - loss: 0.0516 - val_accuracy: 0.9822 - val_loss: 0.0524\n",
      "Epoch 3/50\n",
      "\u001b[1m2566/2566\u001b[0m \u001b[32m━━━━━━━━━━━━━━━━━━━━\u001b[0m\u001b[37m\u001b[0m \u001b[1m18s\u001b[0m 7ms/step - accuracy: 0.9870 - loss: 0.0438 - val_accuracy: 0.9853 - val_loss: 0.0462\n",
      "Epoch 4/50\n",
      "\u001b[1m2566/2566\u001b[0m \u001b[32m━━━━━━━━━━━━━━━━━━━━\u001b[0m\u001b[37m\u001b[0m \u001b[1m18s\u001b[0m 7ms/step - accuracy: 0.9896 - loss: 0.0352 - val_accuracy: 0.9803 - val_loss: 0.0680\n",
      "Epoch 5/50\n",
      "\u001b[1m2566/2566\u001b[0m \u001b[32m━━━━━━━━━━━━━━━━━━━━\u001b[0m\u001b[37m\u001b[0m \u001b[1m17s\u001b[0m 7ms/step - accuracy: 0.9900 - loss: 0.0337 - val_accuracy: 0.9868 - val_loss: 0.0458\n",
      "Epoch 6/50\n",
      "\u001b[1m2566/2566\u001b[0m \u001b[32m━━━━━━━━━━━━━━━━━━━━\u001b[0m\u001b[37m\u001b[0m \u001b[1m17s\u001b[0m 7ms/step - accuracy: 0.9916 - loss: 0.0290 - val_accuracy: 0.9844 - val_loss: 0.0547\n",
      "Epoch 7/50\n",
      "\u001b[1m2566/2566\u001b[0m \u001b[32m━━━━━━━━━━━━━━━━━━━━\u001b[0m\u001b[37m\u001b[0m \u001b[1m17s\u001b[0m 7ms/step - accuracy: 0.9914 - loss: 0.0275 - val_accuracy: 0.9882 - val_loss: 0.0444\n",
      "Epoch 8/50\n",
      "\u001b[1m2566/2566\u001b[0m \u001b[32m━━━━━━━━━━━━━━━━━━━━\u001b[0m\u001b[37m\u001b[0m \u001b[1m17s\u001b[0m 6ms/step - accuracy: 0.9932 - loss: 0.0226 - val_accuracy: 0.9888 - val_loss: 0.0407\n",
      "Epoch 9/50\n",
      "\u001b[1m2566/2566\u001b[0m \u001b[32m━━━━━━━━━━━━━━━━━━━━\u001b[0m\u001b[37m\u001b[0m \u001b[1m18s\u001b[0m 7ms/step - accuracy: 0.9938 - loss: 0.0211 - val_accuracy: 0.9886 - val_loss: 0.0451\n",
      "Epoch 10/50\n",
      "\u001b[1m2566/2566\u001b[0m \u001b[32m━━━━━━━━━━━━━━━━━━━━\u001b[0m\u001b[37m\u001b[0m \u001b[1m17s\u001b[0m 7ms/step - accuracy: 0.9936 - loss: 0.0229 - val_accuracy: 0.9895 - val_loss: 0.0400\n",
      "Epoch 11/50\n",
      "\u001b[1m2566/2566\u001b[0m \u001b[32m━━━━━━━━━━━━━━━━━━━━\u001b[0m\u001b[37m\u001b[0m \u001b[1m18s\u001b[0m 7ms/step - accuracy: 0.9951 - loss: 0.0190 - val_accuracy: 0.9875 - val_loss: 0.0557\n",
      "Epoch 12/50\n",
      "\u001b[1m2566/2566\u001b[0m \u001b[32m━━━━━━━━━━━━━━━━━━━━\u001b[0m\u001b[37m\u001b[0m \u001b[1m18s\u001b[0m 7ms/step - accuracy: 0.9949 - loss: 0.0180 - val_accuracy: 0.9862 - val_loss: 0.0529\n",
      "Epoch 13/50\n",
      "\u001b[1m2566/2566\u001b[0m \u001b[32m━━━━━━━━━━━━━━━━━━━━\u001b[0m\u001b[37m\u001b[0m \u001b[1m17s\u001b[0m 7ms/step - accuracy: 0.9941 - loss: 0.0188 - val_accuracy: 0.9866 - val_loss: 0.0587\n",
      "Epoch 14/50\n",
      "\u001b[1m2566/2566\u001b[0m \u001b[32m━━━━━━━━━━━━━━━━━━━━\u001b[0m\u001b[37m\u001b[0m \u001b[1m18s\u001b[0m 7ms/step - accuracy: 0.9944 - loss: 0.0211 - val_accuracy: 0.9910 - val_loss: 0.0388\n",
      "Epoch 15/50\n",
      "\u001b[1m2566/2566\u001b[0m \u001b[32m━━━━━━━━━━━━━━━━━━━━\u001b[0m\u001b[37m\u001b[0m \u001b[1m17s\u001b[0m 7ms/step - accuracy: 0.9959 - loss: 0.0152 - val_accuracy: 0.9895 - val_loss: 0.0368\n",
      "Epoch 16/50\n",
      "\u001b[1m2566/2566\u001b[0m \u001b[32m━━━━━━━━━━━━━━━━━━━━\u001b[0m\u001b[37m\u001b[0m \u001b[1m18s\u001b[0m 7ms/step - accuracy: 0.9957 - loss: 0.0135 - val_accuracy: 0.9904 - val_loss: 0.0420\n",
      "Epoch 17/50\n",
      "\u001b[1m2566/2566\u001b[0m \u001b[32m━━━━━━━━━━━━━━━━━━━━\u001b[0m\u001b[37m\u001b[0m \u001b[1m17s\u001b[0m 7ms/step - accuracy: 0.9955 - loss: 0.0147 - val_accuracy: 0.9893 - val_loss: 0.0460\n",
      "Epoch 18/50\n",
      "\u001b[1m2566/2566\u001b[0m \u001b[32m━━━━━━━━━━━━━━━━━━━━\u001b[0m\u001b[37m\u001b[0m \u001b[1m16s\u001b[0m 6ms/step - accuracy: 0.9954 - loss: 0.0132 - val_accuracy: 0.9893 - val_loss: 0.0445\n",
      "Epoch 19/50\n",
      "\u001b[1m2566/2566\u001b[0m \u001b[32m━━━━━━━━━━━━━━━━━━━━\u001b[0m\u001b[37m\u001b[0m \u001b[1m17s\u001b[0m 7ms/step - accuracy: 0.9955 - loss: 0.0139 - val_accuracy: 0.9928 - val_loss: 0.0313\n",
      "Epoch 20/50\n",
      "\u001b[1m2566/2566\u001b[0m \u001b[32m━━━━━━━━━━━━━━━━━━━━\u001b[0m\u001b[37m\u001b[0m \u001b[1m18s\u001b[0m 7ms/step - accuracy: 0.9962 - loss: 0.0149 - val_accuracy: 0.9917 - val_loss: 0.0417\n",
      "Epoch 21/50\n",
      "\u001b[1m2566/2566\u001b[0m \u001b[32m━━━━━━━━━━━━━━━━━━━━\u001b[0m\u001b[37m\u001b[0m \u001b[1m17s\u001b[0m 6ms/step - accuracy: 0.9971 - loss: 0.0111 - val_accuracy: 0.9917 - val_loss: 0.0362\n",
      "Epoch 22/50\n",
      "\u001b[1m2566/2566\u001b[0m \u001b[32m━━━━━━━━━━━━━━━━━━━━\u001b[0m\u001b[37m\u001b[0m \u001b[1m18s\u001b[0m 7ms/step - accuracy: 0.9967 - loss: 0.0110 - val_accuracy: 0.9899 - val_loss: 0.0456\n",
      "Epoch 23/50\n",
      "\u001b[1m2566/2566\u001b[0m \u001b[32m━━━━━━━━━━━━━━━━━━━━\u001b[0m\u001b[37m\u001b[0m \u001b[1m18s\u001b[0m 7ms/step - accuracy: 0.9967 - loss: 0.0114 - val_accuracy: 0.9910 - val_loss: 0.0395\n",
      "Epoch 24/50\n",
      "\u001b[1m2566/2566\u001b[0m \u001b[32m━━━━━━━━━━━━━━━━━━━━\u001b[0m\u001b[37m\u001b[0m \u001b[1m17s\u001b[0m 7ms/step - accuracy: 0.9975 - loss: 0.0095 - val_accuracy: 0.9919 - val_loss: 0.0450\n",
      "Epoch 25/50\n",
      "\u001b[1m2566/2566\u001b[0m \u001b[32m━━━━━━━━━━━━━━━━━━━━\u001b[0m\u001b[37m\u001b[0m \u001b[1m17s\u001b[0m 7ms/step - accuracy: 0.9963 - loss: 0.0112 - val_accuracy: 0.9919 - val_loss: 0.0458\n",
      "Epoch 26/50\n",
      "\u001b[1m2566/2566\u001b[0m \u001b[32m━━━━━━━━━━━━━━━━━━━━\u001b[0m\u001b[37m\u001b[0m \u001b[1m16s\u001b[0m 6ms/step - accuracy: 0.9972 - loss: 0.0091 - val_accuracy: 0.9897 - val_loss: 0.0541\n",
      "Epoch 27/50\n",
      "\u001b[1m2566/2566\u001b[0m \u001b[32m━━━━━━━━━━━━━━━━━━━━\u001b[0m\u001b[37m\u001b[0m \u001b[1m16s\u001b[0m 6ms/step - accuracy: 0.9970 - loss: 0.0104 - val_accuracy: 0.9921 - val_loss: 0.0422\n",
      "Epoch 28/50\n",
      "\u001b[1m2566/2566\u001b[0m \u001b[32m━━━━━━━━━━━━━━━━━━━━\u001b[0m\u001b[37m\u001b[0m \u001b[1m17s\u001b[0m 6ms/step - accuracy: 0.9970 - loss: 0.0092 - val_accuracy: 0.9925 - val_loss: 0.0477\n",
      "Epoch 29/50\n",
      "\u001b[1m2566/2566\u001b[0m \u001b[32m━━━━━━━━━━━━━━━━━━━━\u001b[0m\u001b[37m\u001b[0m \u001b[1m17s\u001b[0m 7ms/step - accuracy: 0.9973 - loss: 0.0101 - val_accuracy: 0.9910 - val_loss: 0.0468\n",
      "Epoch 30/50\n",
      "\u001b[1m2566/2566\u001b[0m \u001b[32m━━━━━━━━━━━━━━━━━━━━\u001b[0m\u001b[37m\u001b[0m \u001b[1m16s\u001b[0m 6ms/step - accuracy: 0.9963 - loss: 0.0133 - val_accuracy: 0.9910 - val_loss: 0.0397\n",
      "Epoch 31/50\n",
      "\u001b[1m2566/2566\u001b[0m \u001b[32m━━━━━━━━━━━━━━━━━━━━\u001b[0m\u001b[37m\u001b[0m \u001b[1m17s\u001b[0m 7ms/step - accuracy: 0.9980 - loss: 0.0072 - val_accuracy: 0.9930 - val_loss: 0.0325\n",
      "Epoch 32/50\n",
      "\u001b[1m2566/2566\u001b[0m \u001b[32m━━━━━━━━━━━━━━━━━━━━\u001b[0m\u001b[37m\u001b[0m \u001b[1m17s\u001b[0m 6ms/step - accuracy: 0.9980 - loss: 0.0078 - val_accuracy: 0.9917 - val_loss: 0.0488\n",
      "Epoch 33/50\n",
      "\u001b[1m2566/2566\u001b[0m \u001b[32m━━━━━━━━━━━━━━━━━━━━\u001b[0m\u001b[37m\u001b[0m \u001b[1m17s\u001b[0m 6ms/step - accuracy: 0.9980 - loss: 0.0067 - val_accuracy: 0.9908 - val_loss: 0.0509\n",
      "Epoch 34/50\n",
      "\u001b[1m2566/2566\u001b[0m \u001b[32m━━━━━━━━━━━━━━━━━━━━\u001b[0m\u001b[37m\u001b[0m \u001b[1m16s\u001b[0m 6ms/step - accuracy: 0.9979 - loss: 0.0071 - val_accuracy: 0.9912 - val_loss: 0.0471\n",
      "Epoch 35/50\n",
      "\u001b[1m2566/2566\u001b[0m \u001b[32m━━━━━━━━━━━━━━━━━━━━\u001b[0m\u001b[37m\u001b[0m \u001b[1m17s\u001b[0m 7ms/step - accuracy: 0.9976 - loss: 0.0084 - val_accuracy: 0.9925 - val_loss: 0.0454\n",
      "Epoch 36/50\n",
      "\u001b[1m2566/2566\u001b[0m \u001b[32m━━━━━━━━━━━━━━━━━━━━\u001b[0m\u001b[37m\u001b[0m \u001b[1m16s\u001b[0m 6ms/step - accuracy: 0.9984 - loss: 0.0060 - val_accuracy: 0.9919 - val_loss: 0.0527\n",
      "Epoch 37/50\n",
      "\u001b[1m2566/2566\u001b[0m \u001b[32m━━━━━━━━━━━━━━━━━━━━\u001b[0m\u001b[37m\u001b[0m \u001b[1m16s\u001b[0m 6ms/step - accuracy: 0.9984 - loss: 0.0053 - val_accuracy: 0.9910 - val_loss: 0.0518\n",
      "Epoch 38/50\n",
      "\u001b[1m2566/2566\u001b[0m \u001b[32m━━━━━━━━━━━━━━━━━━━━\u001b[0m\u001b[37m\u001b[0m \u001b[1m17s\u001b[0m 6ms/step - accuracy: 0.9980 - loss: 0.0080 - val_accuracy: 0.9915 - val_loss: 0.0568\n",
      "Epoch 39/50\n",
      "\u001b[1m2566/2566\u001b[0m \u001b[32m━━━━━━━━━━━━━━━━━━━━\u001b[0m\u001b[37m\u001b[0m \u001b[1m16s\u001b[0m 6ms/step - accuracy: 0.9980 - loss: 0.0068 - val_accuracy: 0.9910 - val_loss: 0.0582\n",
      "Epoch 40/50\n",
      "\u001b[1m2566/2566\u001b[0m \u001b[32m━━━━━━━━━━━━━━━━━━━━\u001b[0m\u001b[37m\u001b[0m \u001b[1m16s\u001b[0m 6ms/step - accuracy: 0.9986 - loss: 0.0059 - val_accuracy: 0.9895 - val_loss: 0.0502\n",
      "Epoch 41/50\n",
      "\u001b[1m2566/2566\u001b[0m \u001b[32m━━━━━━━━━━━━━━━━━━━━\u001b[0m\u001b[37m\u001b[0m \u001b[1m16s\u001b[0m 6ms/step - accuracy: 0.9978 - loss: 0.0073 - val_accuracy: 0.9923 - val_loss: 0.0576\n",
      "Epoch 42/50\n",
      "\u001b[1m2566/2566\u001b[0m \u001b[32m━━━━━━━━━━━━━━━━━━━━\u001b[0m\u001b[37m\u001b[0m \u001b[1m16s\u001b[0m 6ms/step - accuracy: 0.9980 - loss: 0.0065 - val_accuracy: 0.9893 - val_loss: 0.0694\n",
      "Epoch 43/50\n",
      "\u001b[1m2566/2566\u001b[0m \u001b[32m━━━━━━━━━━━━━━━━━━━━\u001b[0m\u001b[37m\u001b[0m \u001b[1m16s\u001b[0m 6ms/step - accuracy: 0.9974 - loss: 0.0082 - val_accuracy: 0.9925 - val_loss: 0.0570\n",
      "Epoch 44/50\n",
      "\u001b[1m2566/2566\u001b[0m \u001b[32m━━━━━━━━━━━━━━━━━━━━\u001b[0m\u001b[37m\u001b[0m \u001b[1m16s\u001b[0m 6ms/step - accuracy: 0.9982 - loss: 0.0073 - val_accuracy: 0.9906 - val_loss: 0.0589\n",
      "Epoch 45/50\n",
      "\u001b[1m2566/2566\u001b[0m \u001b[32m━━━━━━━━━━━━━━━━━━━━\u001b[0m\u001b[37m\u001b[0m \u001b[1m16s\u001b[0m 6ms/step - accuracy: 0.9981 - loss: 0.0070 - val_accuracy: 0.9932 - val_loss: 0.0518\n",
      "Epoch 46/50\n",
      "\u001b[1m2566/2566\u001b[0m \u001b[32m━━━━━━━━━━━━━━━━━━━━\u001b[0m\u001b[37m\u001b[0m \u001b[1m16s\u001b[0m 6ms/step - accuracy: 0.9987 - loss: 0.0056 - val_accuracy: 0.9921 - val_loss: 0.0474\n",
      "Epoch 47/50\n",
      "\u001b[1m2566/2566\u001b[0m \u001b[32m━━━━━━━━━━━━━━━━━━━━\u001b[0m\u001b[37m\u001b[0m \u001b[1m16s\u001b[0m 6ms/step - accuracy: 0.9988 - loss: 0.0044 - val_accuracy: 0.9945 - val_loss: 0.0433\n",
      "Epoch 48/50\n",
      "\u001b[1m2566/2566\u001b[0m \u001b[32m━━━━━━━━━━━━━━━━━━━━\u001b[0m\u001b[37m\u001b[0m \u001b[1m16s\u001b[0m 6ms/step - accuracy: 0.9984 - loss: 0.0055 - val_accuracy: 0.9917 - val_loss: 0.0475\n",
      "Epoch 49/50\n",
      "\u001b[1m2566/2566\u001b[0m \u001b[32m━━━━━━━━━━━━━━━━━━━━\u001b[0m\u001b[37m\u001b[0m \u001b[1m16s\u001b[0m 6ms/step - accuracy: 0.9982 - loss: 0.0060 - val_accuracy: 0.9934 - val_loss: 0.0497\n",
      "Epoch 50/50\n",
      "\u001b[1m2566/2566\u001b[0m \u001b[32m━━━━━━━━━━━━━━━━━━━━\u001b[0m\u001b[37m\u001b[0m \u001b[1m16s\u001b[0m 6ms/step - accuracy: 0.9992 - loss: 0.0032 - val_accuracy: 0.9921 - val_loss: 0.0559\n"
     ]
    }
   ],
   "source": [
    "history = model.fit(x_train_dl, y_train_dl, batch_size = 16, epochs = 50, validation_split = 0.1)"
   ]
  },
  {
   "cell_type": "code",
   "execution_count": 20,
   "id": "d5354078",
   "metadata": {},
   "outputs": [
    {
     "name": "stdout",
     "output_type": "stream",
     "text": [
      "\u001b[1m252/252\u001b[0m \u001b[32m━━━━━━━━━━━━━━━━━━━━\u001b[0m\u001b[37m\u001b[0m \u001b[1m1s\u001b[0m 2ms/step\n",
      "Accuracy: % 99.2919254658385\n",
      "That means that out of 8050 test samples, this model got 7993 correct and 57 incorrect\n"
     ]
    }
   ],
   "source": [
    "predictions = model.predict(x_test_dl)\n",
    "predictions = (predictions[:, 0] > 0.5).astype(np.int8)\n",
    "print(\"Accuracy: %\", accuracy_score(y_test_dl, predictions) * 100)\n",
    "\n",
    "correct_preds = (y_test_dl == predictions)\n",
    "print(\"That means that out of\", y_test_dl.shape[0] ,\"test samples, this model got\", \n",
    "      np.where(correct_preds)[0].size, \"correct and\",\n",
    "      np.where(~correct_preds)[0].size, \"incorrect\")"
   ]
  },
  {
   "cell_type": "code",
   "execution_count": 22,
   "id": "e6cc321d",
   "metadata": {},
   "outputs": [
    {
     "data": {
      "image/png": "[encoded data removed]",
      "text/plain": [
       "<Figure size 1000x800 with 2 Axes>"
      ]
     },
     "metadata": {},
     "output_type": "display_data"
    }
   ],
   "source": [
    "cm_dl = confusion_matrix(y_test_dl, predictions)\n",
    "\n",
    "plt.figure(figsize=(10, 8))\n",
    "sns.heatmap(cm_dl, annot=True, fmt='g')\n",
    "plt.gca().set_xlabel(\"Predicted\", fontsize=16)\n",
    "plt.gca().set_ylabel(\"True\", fontsize = 16)\n",
    "plt.show()"
   ]
  },
  {
   "cell_type": "code",
   "execution_count": 23,
   "id": "b3518ad3",
   "metadata": {},
   "outputs": [
    {
     "data": {
      "image/png": "[encoded data removed]",
      "text/plain": [
       "<Figure size 640x480 with 1 Axes>"
      ]
     },
     "metadata": {},
     "output_type": "display_data"
    }
   ],
   "source": [
    "plt.plot(history.history['loss'], label='Train Loss')\n",
    "plt.plot(history.history['val_loss'], label='Validation Loss')\n",
    "plt.legend()\n",
    "plt.show()"
   ]
  },
  {
   "cell_type": "code",
   "execution_count": 24,
   "id": "ab4397a0",
   "metadata": {},
   "outputs": [
    {
     "data": {
      "image/png": "[encoded data removed]",
      "text/plain": [
       "<Figure size 640x480 with 1 Axes>"
      ]
     },
     "metadata": {},
     "output_type": "display_data"
    }
   ],
   "source": [
    "plt.plot(history.history['accuracy'], label='Train accuracy')\n",
    "plt.plot(history.history['val_accuracy'], label='Validation accuracy')\n",
    "plt.legend()\n",
    "plt.show()"
   ]
  },
  {
   "cell_type": "code",
   "execution_count": 25,
   "id": "fea7c224",
   "metadata": {},
   "outputs": [
    {
     "data": {
      "text/plain": [
       "\"on escapenumber apr escapenumber escapenumber escapenumber escapenumber escapenumber parrot bug summary wrote parrot bug summary http rt perl org rtescapenumber noauth parrot overview html generated at mon apr escapenumber escapenumber escapenumber escapenumber escapenumber gmt numbers overview of open issues numbers ticket counts escapenumber new escapenumber open escapenumber created this week escapenumber closed this week escapenumber overview of open issues platform severity tag lang aix escapenumber abandoned escapenumber escapenumberthreads escapenumber amber escapenumber all escapenumber fatal escapenumber bounce escapenumber basic escapenumber bsdos escapenumber high escapenumber bug escapenumber bc escapenumber cygwin escapenumber low escapenumber compiler escapenumber befunge escapenumber cygwin nt escapenumber medium escapenumber configure escapenumber bf escapenumber darwin escapenumber none escapenumber core escapenumber cola escapenumber dec osf escapenumber normal escapenumber dailybuild escapenumber forth escapenumber dgux escapenumber unknown escapenumber docs escapenumber jako escapenumber dos escapenumber wishlist escapenumber duplicate escapenumber lisp escapenumber dynixptx escapenumber install escapenumber mescapenumber escapenumber freebsd escapenumber library escapenumber ook escapenumber generic escapenumber notabug escapenumber perlescapenumber escapenumber gnu escapenumber notok escapenumber plot escapenumber hpux escapenumber ok escapenumber punie escapenumber irix escapenumber patch escapenumber pynie escapenumber irixescapenumber escapenumber regex escapenumber python escapenumber linux escapenumber sendtocpan escapenumber ruby escapenumber lynxos escapenumber todo escapenumber scheme escapenumber mac escapenumber unknown escapenumber tcl escapenumber machten escapenumber utilities escapenumber urm escapenumber macos escapenumber wontfix escapenumber zcode escapenumber macos x escapenumber mswinescapenumber escapenumber netbsd escapenumber next escapenumber openbsd escapenumber osescapenumber escapenumber osescapenumber escapenumber other escapenumber powerux escapenumber qnx escapenumber riscos escapenumber sco escapenumber solaris escapenumber sunos escapenumber svrescapenumber escapenumber svrescapenumber escapenumber sysv escapenumber unicos escapenumber unicosmk escapenumber unix escapenumber unknown escapenumber uts escapenumber vms escapenumber vos escapenumber winescapenumber escapenumber the parrot rt queue is growing by the week it means we have more eyes on the source code and more folks running parrot it also means it becomes more difficult to manage as you can see in the snippets above from the weekly rt summary message we have escapenumber tickets many of these are unclassified with regard to platform severity language etc classification of these tickets and creation of shared queries we can use to manage the queue will make it easier for committers and contributors to perform analysis on current tickets this will enable folks to more easily determine if a ticket has been entered already for example oh and just to get it out of the way i'm not entering a ticket for this item p if anyone would like to do help with this effort but doesn't have the proper rights let us know we'll try to get you set up to help jerry\""
      ]
     },
     "metadata": {},
     "output_type": "display_data"
    },
    {
     "name": "stdout",
     "output_type": "stream",
     "text": [
      "This mail has label  1\n",
      "\n",
      "Your model ranked its predictions this way: \n",
      "\n",
      "0\n"
     ]
    }
   ],
   "source": [
    "i = np.random.choice(np.where(~correct_preds)[0])\n",
    "\n",
    "display(df.iloc[i].text)\n",
    "\n",
    "print(\"This mail has label \", y_test_dl.iloc[i])\n",
    "print()\n",
    "print(\"Your model ranked its predictions this way: \\n\")\n",
    "print(predictions[i])"
   ]
  },
  {
   "cell_type": "code",
   "execution_count": 27,
   "id": "943a9cb9",
   "metadata": {},
   "outputs": [
    {
     "data": {
      "text/html": [
       "<pre style=\"white-space:pre;overflow-x:auto;line-height:normal;font-family:Menlo,'DejaVu Sans Mono',consolas,'Courier New',monospace\"><span style=\"font-weight: bold\">Model: \"sequential\"</span>\n",
       "</pre>\n"
      ],
      "text/plain": [
       "\u001b[1mModel: \"sequential\"\u001b[0m\n"
      ]
     },
     "metadata": {},
     "output_type": "display_data"
    },
    {
     "data": {
      "text/html": [
       "<pre style=\"white-space:pre;overflow-x:auto;line-height:normal;font-family:Menlo,'DejaVu Sans Mono',consolas,'Courier New',monospace\">┏━━━━━━━━━━━━━━━━━━━━━━━━━━━━━━━━━┳━━━━━━━━━━━━━━━━━━━━━━━━┳━━━━━━━━━━━━━━━┓\n",
       "┃<span style=\"font-weight: bold\"> Layer (type)                    </span>┃<span style=\"font-weight: bold\"> Output Shape           </span>┃<span style=\"font-weight: bold\">       Param # </span>┃\n",
       "┡━━━━━━━━━━━━━━━━━━━━━━━━━━━━━━━━━╇━━━━━━━━━━━━━━━━━━━━━━━━╇━━━━━━━━━━━━━━━┩\n",
       "│ dense (<span style=\"color: #0087ff; text-decoration-color: #0087ff\">Dense</span>)                   │ (<span style=\"color: #00d7ff; text-decoration-color: #00d7ff\">None</span>, <span style=\"color: #00af00; text-decoration-color: #00af00\">300</span>)            │        <span style=\"color: #00af00; text-decoration-color: #00af00\">90,300</span> │\n",
       "├─────────────────────────────────┼────────────────────────┼───────────────┤\n",
       "│ dense_1 (<span style=\"color: #0087ff; text-decoration-color: #0087ff\">Dense</span>)                 │ (<span style=\"color: #00d7ff; text-decoration-color: #00d7ff\">None</span>, <span style=\"color: #00af00; text-decoration-color: #00af00\">600</span>)            │       <span style=\"color: #00af00; text-decoration-color: #00af00\">180,600</span> │\n",
       "├─────────────────────────────────┼────────────────────────┼───────────────┤\n",
       "│ dense_2 (<span style=\"color: #0087ff; text-decoration-color: #0087ff\">Dense</span>)                 │ (<span style=\"color: #00d7ff; text-decoration-color: #00d7ff\">None</span>, <span style=\"color: #00af00; text-decoration-color: #00af00\">16</span>)             │         <span style=\"color: #00af00; text-decoration-color: #00af00\">9,616</span> │\n",
       "├─────────────────────────────────┼────────────────────────┼───────────────┤\n",
       "│ dense_3 (<span style=\"color: #0087ff; text-decoration-color: #0087ff\">Dense</span>)                 │ (<span style=\"color: #00d7ff; text-decoration-color: #00d7ff\">None</span>, <span style=\"color: #00af00; text-decoration-color: #00af00\">1</span>)              │            <span style=\"color: #00af00; text-decoration-color: #00af00\">17</span> │\n",
       "└─────────────────────────────────┴────────────────────────┴───────────────┘\n",
       "</pre>\n"
      ],
      "text/plain": [
       "┏━━━━━━━━━━━━━━━━━━━━━━━━━━━━━━━━━┳━━━━━━━━━━━━━━━━━━━━━━━━┳━━━━━━━━━━━━━━━┓\n",
       "┃\u001b[1m \u001b[0m\u001b[1mLayer (type)                   \u001b[0m\u001b[1m \u001b[0m┃\u001b[1m \u001b[0m\u001b[1mOutput Shape          \u001b[0m\u001b[1m \u001b[0m┃\u001b[1m \u001b[0m\u001b[1m      Param #\u001b[0m\u001b[1m \u001b[0m┃\n",
       "┡━━━━━━━━━━━━━━━━━━━━━━━━━━━━━━━━━╇━━━━━━━━━━━━━━━━━━━━━━━━╇━━━━━━━━━━━━━━━┩\n",
       "│ dense (\u001b[38;5;33mDense\u001b[0m)                   │ (\u001b[38;5;45mNone\u001b[0m, \u001b[38;5;34m300\u001b[0m)            │        \u001b[38;5;34m90,300\u001b[0m │\n",
       "├─────────────────────────────────┼────────────────────────┼───────────────┤\n",
       "│ dense_1 (\u001b[38;5;33mDense\u001b[0m)                 │ (\u001b[38;5;45mNone\u001b[0m, \u001b[38;5;34m600\u001b[0m)            │       \u001b[38;5;34m180,600\u001b[0m │\n",
       "├─────────────────────────────────┼────────────────────────┼───────────────┤\n",
       "│ dense_2 (\u001b[38;5;33mDense\u001b[0m)                 │ (\u001b[38;5;45mNone\u001b[0m, \u001b[38;5;34m16\u001b[0m)             │         \u001b[38;5;34m9,616\u001b[0m │\n",
       "├─────────────────────────────────┼────────────────────────┼───────────────┤\n",
       "│ dense_3 (\u001b[38;5;33mDense\u001b[0m)                 │ (\u001b[38;5;45mNone\u001b[0m, \u001b[38;5;34m1\u001b[0m)              │            \u001b[38;5;34m17\u001b[0m │\n",
       "└─────────────────────────────────┴────────────────────────┴───────────────┘\n"
      ]
     },
     "metadata": {},
     "output_type": "display_data"
    },
    {
     "data": {
      "text/html": [
       "<pre style=\"white-space:pre;overflow-x:auto;line-height:normal;font-family:Menlo,'DejaVu Sans Mono',consolas,'Courier New',monospace\"><span style=\"font-weight: bold\"> Total params: </span><span style=\"color: #00af00; text-decoration-color: #00af00\">841,601</span> (3.21 MB)\n",
       "</pre>\n"
      ],
      "text/plain": [
       "\u001b[1m Total params: \u001b[0m\u001b[38;5;34m841,601\u001b[0m (3.21 MB)\n"
      ]
     },
     "metadata": {},
     "output_type": "display_data"
    },
    {
     "data": {
      "text/html": [
       "<pre style=\"white-space:pre;overflow-x:auto;line-height:normal;font-family:Menlo,'DejaVu Sans Mono',consolas,'Courier New',monospace\"><span style=\"font-weight: bold\"> Trainable params: </span><span style=\"color: #00af00; text-decoration-color: #00af00\">280,533</span> (1.07 MB)\n",
       "</pre>\n"
      ],
      "text/plain": [
       "\u001b[1m Trainable params: \u001b[0m\u001b[38;5;34m280,533\u001b[0m (1.07 MB)\n"
      ]
     },
     "metadata": {},
     "output_type": "display_data"
    },
    {
     "data": {
      "text/html": [
       "<pre style=\"white-space:pre;overflow-x:auto;line-height:normal;font-family:Menlo,'DejaVu Sans Mono',consolas,'Courier New',monospace\"><span style=\"font-weight: bold\"> Non-trainable params: </span><span style=\"color: #00af00; text-decoration-color: #00af00\">0</span> (0.00 B)\n",
       "</pre>\n"
      ],
      "text/plain": [
       "\u001b[1m Non-trainable params: \u001b[0m\u001b[38;5;34m0\u001b[0m (0.00 B)\n"
      ]
     },
     "metadata": {},
     "output_type": "display_data"
    },
    {
     "data": {
      "text/html": [
       "<pre style=\"white-space:pre;overflow-x:auto;line-height:normal;font-family:Menlo,'DejaVu Sans Mono',consolas,'Courier New',monospace\"><span style=\"font-weight: bold\"> Optimizer params: </span><span style=\"color: #00af00; text-decoration-color: #00af00\">561,068</span> (2.14 MB)\n",
       "</pre>\n"
      ],
      "text/plain": [
       "\u001b[1m Optimizer params: \u001b[0m\u001b[38;5;34m561,068\u001b[0m (2.14 MB)\n"
      ]
     },
     "metadata": {},
     "output_type": "display_data"
    },
    {
     "data": {
      "text/plain": [
       "None"
      ]
     },
     "metadata": {},
     "output_type": "display_data"
    }
   ],
   "source": [
    "display(model.summary())"
   ]
  },
  {
   "cell_type": "code",
   "execution_count": 27,
   "id": "323338ec",
   "metadata": {},
   "outputs": [],
   "source": [
    "model.save(f'{np.int32(accuracy_score(y_test_dl, predictions) * 100000)}.keras')"
   ]
  },
  {
   "cell_type": "code",
   "execution_count": 114,
   "id": "4d3c27c0",
   "metadata": {},
   "outputs": [],
   "source": [
    "model2 = Sequential()"
   ]
  },
  {
   "cell_type": "code",
   "execution_count": 115,
   "id": "fa97a316",
   "metadata": {},
   "outputs": [],
   "source": [
    "model2.add(Input((x_train_dl.shape[1],)))\n",
    "model2.add(Dense(x_train_dl.shape[1] * 2, activation='relu'))\n",
    "model2.add(Dense(x_train_dl.shape[1] * 4, activation='relu'))\n",
    "model2.add(Dense(256, activation='relu'))\n",
    "model2.add(Dense(16, activation='relu'))\n",
    "model2.add(Dense(1, activation='sigmoid'))"
   ]
  },
  {
   "cell_type": "code",
   "execution_count": 116,
   "id": "6936d918",
   "metadata": {},
   "outputs": [],
   "source": [
    "model2.compile(optimizer='adam', loss='binary_crossentropy', metrics=['accuracy'])"
   ]
  },
  {
   "cell_type": "code",
   "execution_count": 117,
   "id": "1201ad9c",
   "metadata": {},
   "outputs": [
    {
     "name": "stdout",
     "output_type": "stream",
     "text": [
      "Epoch 1/50\n",
      "\u001b[1m2566/2566\u001b[0m \u001b[32m━━━━━━━━━━━━━━━━━━━━\u001b[0m\u001b[37m\u001b[0m \u001b[1m126s\u001b[0m 49ms/step - accuracy: 0.9465 - loss: 0.1434 - val_accuracy: 0.9794 - val_loss: 0.0656\n",
      "Epoch 2/50\n",
      "\u001b[1m2566/2566\u001b[0m \u001b[32m━━━━━━━━━━━━━━━━━━━━\u001b[0m\u001b[37m\u001b[0m \u001b[1m119s\u001b[0m 46ms/step - accuracy: 0.9811 - loss: 0.0544 - val_accuracy: 0.9790 - val_loss: 0.0696\n",
      "Epoch 3/50\n",
      "\u001b[1m2566/2566\u001b[0m \u001b[32m━━━━━━━━━━━━━━━━━━━━\u001b[0m\u001b[37m\u001b[0m \u001b[1m113s\u001b[0m 44ms/step - accuracy: 0.9840 - loss: 0.0488 - val_accuracy: 0.9847 - val_loss: 0.0490\n",
      "Epoch 4/50\n",
      "\u001b[1m2566/2566\u001b[0m \u001b[32m━━━━━━━━━━━━━━━━━━━━\u001b[0m\u001b[37m\u001b[0m \u001b[1m119s\u001b[0m 46ms/step - accuracy: 0.9884 - loss: 0.0396 - val_accuracy: 0.9847 - val_loss: 0.0492\n",
      "Epoch 5/50\n",
      "\u001b[1m2566/2566\u001b[0m \u001b[32m━━━━━━━━━━━━━━━━━━━━\u001b[0m\u001b[37m\u001b[0m \u001b[1m122s\u001b[0m 47ms/step - accuracy: 0.9884 - loss: 0.0365 - val_accuracy: 0.9868 - val_loss: 0.0508\n",
      "Epoch 6/50\n",
      "\u001b[1m2566/2566\u001b[0m \u001b[32m━━━━━━━━━━━━━━━━━━━━\u001b[0m\u001b[37m\u001b[0m \u001b[1m116s\u001b[0m 45ms/step - accuracy: 0.9904 - loss: 0.0308 - val_accuracy: 0.9851 - val_loss: 0.0535\n",
      "Epoch 7/50\n",
      "\u001b[1m2566/2566\u001b[0m \u001b[32m━━━━━━━━━━━━━━━━━━━━\u001b[0m\u001b[37m\u001b[0m \u001b[1m118s\u001b[0m 46ms/step - accuracy: 0.9910 - loss: 0.0299 - val_accuracy: 0.9901 - val_loss: 0.0453\n",
      "Epoch 8/50\n",
      "\u001b[1m2566/2566\u001b[0m \u001b[32m━━━━━━━━━━━━━━━━━━━━\u001b[0m\u001b[37m\u001b[0m \u001b[1m120s\u001b[0m 47ms/step - accuracy: 0.9918 - loss: 0.0270 - val_accuracy: 0.9868 - val_loss: 0.0485\n",
      "Epoch 9/50\n",
      "\u001b[1m2566/2566\u001b[0m \u001b[32m━━━━━━━━━━━━━━━━━━━━\u001b[0m\u001b[37m\u001b[0m \u001b[1m126s\u001b[0m 49ms/step - accuracy: 0.9928 - loss: 0.0262 - val_accuracy: 0.9890 - val_loss: 0.0392\n",
      "Epoch 10/50\n",
      "\u001b[1m2566/2566\u001b[0m \u001b[32m━━━━━━━━━━━━━━━━━━━━\u001b[0m\u001b[37m\u001b[0m \u001b[1m117s\u001b[0m 45ms/step - accuracy: 0.9944 - loss: 0.0226 - val_accuracy: 0.9893 - val_loss: 0.0377\n",
      "Epoch 11/50\n",
      "\u001b[1m2566/2566\u001b[0m \u001b[32m━━━━━━━━━━━━━━━━━━━━\u001b[0m\u001b[37m\u001b[0m \u001b[1m119s\u001b[0m 46ms/step - accuracy: 0.9938 - loss: 0.0212 - val_accuracy: 0.9875 - val_loss: 0.0491\n",
      "Epoch 12/50\n",
      "\u001b[1m2566/2566\u001b[0m \u001b[32m━━━━━━━━━━━━━━━━━━━━\u001b[0m\u001b[37m\u001b[0m \u001b[1m125s\u001b[0m 49ms/step - accuracy: 0.9938 - loss: 0.0219 - val_accuracy: 0.9774 - val_loss: 0.0968\n",
      "Epoch 13/50\n",
      "\u001b[1m2566/2566\u001b[0m \u001b[32m━━━━━━━━━━━━━━━━━━━━\u001b[0m\u001b[37m\u001b[0m \u001b[1m115s\u001b[0m 45ms/step - accuracy: 0.9935 - loss: 0.0216 - val_accuracy: 0.9901 - val_loss: 0.0369\n",
      "Epoch 14/50\n",
      "\u001b[1m2566/2566\u001b[0m \u001b[32m━━━━━━━━━━━━━━━━━━━━\u001b[0m\u001b[37m\u001b[0m \u001b[1m119s\u001b[0m 46ms/step - accuracy: 0.9945 - loss: 0.0191 - val_accuracy: 0.9886 - val_loss: 0.0442\n",
      "Epoch 15/50\n",
      "\u001b[1m2566/2566\u001b[0m \u001b[32m━━━━━━━━━━━━━━━━━━━━\u001b[0m\u001b[37m\u001b[0m \u001b[1m121s\u001b[0m 47ms/step - accuracy: 0.9947 - loss: 0.0183 - val_accuracy: 0.9904 - val_loss: 0.0538\n",
      "Epoch 16/50\n",
      "\u001b[1m2566/2566\u001b[0m \u001b[32m━━━━━━━━━━━━━━━━━━━━\u001b[0m\u001b[37m\u001b[0m \u001b[1m121s\u001b[0m 47ms/step - accuracy: 0.9954 - loss: 0.0158 - val_accuracy: 0.9897 - val_loss: 0.0474\n",
      "Epoch 17/50\n",
      "\u001b[1m2566/2566\u001b[0m \u001b[32m━━━━━━━━━━━━━━━━━━━━\u001b[0m\u001b[37m\u001b[0m \u001b[1m117s\u001b[0m 45ms/step - accuracy: 0.9956 - loss: 0.0155 - val_accuracy: 0.9912 - val_loss: 0.0654\n",
      "Epoch 18/50\n",
      "\u001b[1m2566/2566\u001b[0m \u001b[32m━━━━━━━━━━━━━━━━━━━━\u001b[0m\u001b[37m\u001b[0m \u001b[1m115s\u001b[0m 45ms/step - accuracy: 0.9944 - loss: 0.0182 - val_accuracy: 0.9906 - val_loss: 0.0452\n",
      "Epoch 19/50\n",
      "\u001b[1m2566/2566\u001b[0m \u001b[32m━━━━━━━━━━━━━━━━━━━━\u001b[0m\u001b[37m\u001b[0m \u001b[1m125s\u001b[0m 49ms/step - accuracy: 0.9955 - loss: 0.0162 - val_accuracy: 0.9895 - val_loss: 0.0460\n",
      "Epoch 20/50\n",
      "\u001b[1m2566/2566\u001b[0m \u001b[32m━━━━━━━━━━━━━━━━━━━━\u001b[0m\u001b[37m\u001b[0m \u001b[1m119s\u001b[0m 46ms/step - accuracy: 0.9961 - loss: 0.0131 - val_accuracy: 0.9890 - val_loss: 0.0604\n",
      "Epoch 21/50\n",
      "\u001b[1m2566/2566\u001b[0m \u001b[32m━━━━━━━━━━━━━━━━━━━━\u001b[0m\u001b[37m\u001b[0m \u001b[1m119s\u001b[0m 47ms/step - accuracy: 0.9952 - loss: 0.0169 - val_accuracy: 0.9917 - val_loss: 0.0555\n",
      "Epoch 22/50\n",
      "\u001b[1m2566/2566\u001b[0m \u001b[32m━━━━━━━━━━━━━━━━━━━━\u001b[0m\u001b[37m\u001b[0m \u001b[1m114s\u001b[0m 44ms/step - accuracy: 0.9961 - loss: 0.0142 - val_accuracy: 0.9912 - val_loss: 0.0491\n",
      "Epoch 23/50\n",
      "\u001b[1m2566/2566\u001b[0m \u001b[32m━━━━━━━━━━━━━━━━━━━━\u001b[0m\u001b[37m\u001b[0m \u001b[1m126s\u001b[0m 49ms/step - accuracy: 0.9963 - loss: 0.0124 - val_accuracy: 0.9833 - val_loss: 0.0586\n",
      "Epoch 24/50\n",
      "\u001b[1m2566/2566\u001b[0m \u001b[32m━━━━━━━━━━━━━━━━━━━━\u001b[0m\u001b[37m\u001b[0m \u001b[1m115s\u001b[0m 45ms/step - accuracy: 0.9960 - loss: 0.0139 - val_accuracy: 0.9917 - val_loss: 0.0611\n",
      "Epoch 25/50\n",
      "\u001b[1m2566/2566\u001b[0m \u001b[32m━━━━━━━━━━━━━━━━━━━━\u001b[0m\u001b[37m\u001b[0m \u001b[1m127s\u001b[0m 49ms/step - accuracy: 0.9965 - loss: 0.0121 - val_accuracy: 0.9897 - val_loss: 0.0508\n",
      "Epoch 26/50\n",
      "\u001b[1m2566/2566\u001b[0m \u001b[32m━━━━━━━━━━━━━━━━━━━━\u001b[0m\u001b[37m\u001b[0m \u001b[1m119s\u001b[0m 46ms/step - accuracy: 0.9958 - loss: 0.0129 - val_accuracy: 0.9904 - val_loss: 0.0568\n",
      "Epoch 27/50\n",
      "\u001b[1m2566/2566\u001b[0m \u001b[32m━━━━━━━━━━━━━━━━━━━━\u001b[0m\u001b[37m\u001b[0m \u001b[1m132s\u001b[0m 51ms/step - accuracy: 0.9962 - loss: 0.0119 - val_accuracy: 0.9919 - val_loss: 0.0604\n",
      "Epoch 28/50\n",
      "\u001b[1m2566/2566\u001b[0m \u001b[32m━━━━━━━━━━━━━━━━━━━━\u001b[0m\u001b[37m\u001b[0m \u001b[1m119s\u001b[0m 46ms/step - accuracy: 0.9972 - loss: 0.0104 - val_accuracy: 0.9919 - val_loss: 0.0457\n",
      "Epoch 29/50\n",
      "\u001b[1m2566/2566\u001b[0m \u001b[32m━━━━━━━━━━━━━━━━━━━━\u001b[0m\u001b[37m\u001b[0m \u001b[1m126s\u001b[0m 49ms/step - accuracy: 0.9967 - loss: 0.0095 - val_accuracy: 0.9919 - val_loss: 0.0605\n",
      "Epoch 30/50\n",
      "\u001b[1m2566/2566\u001b[0m \u001b[32m━━━━━━━━━━━━━━━━━━━━\u001b[0m\u001b[37m\u001b[0m \u001b[1m136s\u001b[0m 53ms/step - accuracy: 0.9963 - loss: 0.0129 - val_accuracy: 0.9904 - val_loss: 0.0701\n",
      "Epoch 31/50\n",
      "\u001b[1m2566/2566\u001b[0m \u001b[32m━━━━━━━━━━━━━━━━━━━━\u001b[0m\u001b[37m\u001b[0m \u001b[1m142s\u001b[0m 55ms/step - accuracy: 0.9967 - loss: 0.0100 - val_accuracy: 0.9919 - val_loss: 0.0597\n",
      "Epoch 32/50\n",
      "\u001b[1m2566/2566\u001b[0m \u001b[32m━━━━━━━━━━━━━━━━━━━━\u001b[0m\u001b[37m\u001b[0m \u001b[1m138s\u001b[0m 54ms/step - accuracy: 0.9971 - loss: 0.0098 - val_accuracy: 0.9910 - val_loss: 0.0608\n",
      "Epoch 33/50\n",
      "\u001b[1m2566/2566\u001b[0m \u001b[32m━━━━━━━━━━━━━━━━━━━━\u001b[0m\u001b[37m\u001b[0m \u001b[1m140s\u001b[0m 54ms/step - accuracy: 0.9975 - loss: 0.0096 - val_accuracy: 0.9875 - val_loss: 0.0543\n",
      "Epoch 34/50\n",
      "\u001b[1m2566/2566\u001b[0m \u001b[32m━━━━━━━━━━━━━━━━━━━━\u001b[0m\u001b[37m\u001b[0m \u001b[1m140s\u001b[0m 54ms/step - accuracy: 0.9968 - loss: 0.0104 - val_accuracy: 0.9925 - val_loss: 0.0627\n",
      "Epoch 35/50\n",
      "\u001b[1m2566/2566\u001b[0m \u001b[32m━━━━━━━━━━━━━━━━━━━━\u001b[0m\u001b[37m\u001b[0m \u001b[1m145s\u001b[0m 57ms/step - accuracy: 0.9977 - loss: 0.0071 - val_accuracy: 0.9901 - val_loss: 0.1026\n",
      "Epoch 36/50\n",
      "\u001b[1m2566/2566\u001b[0m \u001b[32m━━━━━━━━━━━━━━━━━━━━\u001b[0m\u001b[37m\u001b[0m \u001b[1m143s\u001b[0m 56ms/step - accuracy: 0.9964 - loss: 0.0103 - val_accuracy: 0.9923 - val_loss: 0.0718\n",
      "Epoch 37/50\n",
      "\u001b[1m2566/2566\u001b[0m \u001b[32m━━━━━━━━━━━━━━━━━━━━\u001b[0m\u001b[37m\u001b[0m \u001b[1m146s\u001b[0m 57ms/step - accuracy: 0.9974 - loss: 0.0076 - val_accuracy: 0.9910 - val_loss: 0.0551\n",
      "Epoch 38/50\n",
      "\u001b[1m2566/2566\u001b[0m \u001b[32m━━━━━━━━━━━━━━━━━━━━\u001b[0m\u001b[37m\u001b[0m \u001b[1m147s\u001b[0m 57ms/step - accuracy: 0.9973 - loss: 0.0093 - val_accuracy: 0.9917 - val_loss: 0.0620\n",
      "Epoch 39/50\n",
      "\u001b[1m2566/2566\u001b[0m \u001b[32m━━━━━━━━━━━━━━━━━━━━\u001b[0m\u001b[37m\u001b[0m \u001b[1m148s\u001b[0m 58ms/step - accuracy: 0.9975 - loss: 0.0081 - val_accuracy: 0.9917 - val_loss: 0.0878\n",
      "Epoch 40/50\n",
      "\u001b[1m2566/2566\u001b[0m \u001b[32m━━━━━━━━━━━━━━━━━━━━\u001b[0m\u001b[37m\u001b[0m \u001b[1m147s\u001b[0m 57ms/step - accuracy: 0.9978 - loss: 0.0085 - val_accuracy: 0.9908 - val_loss: 0.0544\n",
      "Epoch 41/50\n",
      "\u001b[1m2566/2566\u001b[0m \u001b[32m━━━━━━━━━━━━━━━━━━━━\u001b[0m\u001b[37m\u001b[0m \u001b[1m146s\u001b[0m 57ms/step - accuracy: 0.9980 - loss: 0.0080 - val_accuracy: 0.9925 - val_loss: 0.0622\n",
      "Epoch 42/50\n",
      "\u001b[1m2566/2566\u001b[0m \u001b[32m━━━━━━━━━━━━━━━━━━━━\u001b[0m\u001b[37m\u001b[0m \u001b[1m149s\u001b[0m 58ms/step - accuracy: 0.9986 - loss: 0.0061 - val_accuracy: 0.9901 - val_loss: 0.0559\n",
      "Epoch 43/50\n",
      "\u001b[1m2566/2566\u001b[0m \u001b[32m━━━━━━━━━━━━━━━━━━━━\u001b[0m\u001b[37m\u001b[0m \u001b[1m147s\u001b[0m 57ms/step - accuracy: 0.9981 - loss: 0.0068 - val_accuracy: 0.9908 - val_loss: 0.0498\n",
      "Epoch 44/50\n",
      "\u001b[1m2566/2566\u001b[0m \u001b[32m━━━━━━━━━━━━━━━━━━━━\u001b[0m\u001b[37m\u001b[0m \u001b[1m149s\u001b[0m 58ms/step - accuracy: 0.9975 - loss: 0.0088 - val_accuracy: 0.9919 - val_loss: 0.0492\n",
      "Epoch 45/50\n",
      "\u001b[1m2566/2566\u001b[0m \u001b[32m━━━━━━━━━━━━━━━━━━━━\u001b[0m\u001b[37m\u001b[0m \u001b[1m142s\u001b[0m 56ms/step - accuracy: 0.9983 - loss: 0.0061 - val_accuracy: 0.9893 - val_loss: 0.0715\n",
      "Epoch 46/50\n",
      "\u001b[1m2566/2566\u001b[0m \u001b[32m━━━━━━━━━━━━━━━━━━━━\u001b[0m\u001b[37m\u001b[0m \u001b[1m147s\u001b[0m 57ms/step - accuracy: 0.9977 - loss: 0.0075 - val_accuracy: 0.9923 - val_loss: 0.0505\n",
      "Epoch 47/50\n",
      "\u001b[1m2566/2566\u001b[0m \u001b[32m━━━━━━━━━━━━━━━━━━━━\u001b[0m\u001b[37m\u001b[0m \u001b[1m144s\u001b[0m 56ms/step - accuracy: 0.9975 - loss: 0.0086 - val_accuracy: 0.9912 - val_loss: 0.0456\n",
      "Epoch 48/50\n",
      "\u001b[1m2566/2566\u001b[0m \u001b[32m━━━━━━━━━━━━━━━━━━━━\u001b[0m\u001b[37m\u001b[0m \u001b[1m144s\u001b[0m 56ms/step - accuracy: 0.9982 - loss: 0.0060 - val_accuracy: 0.9919 - val_loss: 0.0509\n",
      "Epoch 49/50\n",
      "\u001b[1m2566/2566\u001b[0m \u001b[32m━━━━━━━━━━━━━━━━━━━━\u001b[0m\u001b[37m\u001b[0m \u001b[1m147s\u001b[0m 57ms/step - accuracy: 0.9978 - loss: 0.0069 - val_accuracy: 0.9928 - val_loss: 0.0730\n",
      "Epoch 50/50\n",
      "\u001b[1m2566/2566\u001b[0m \u001b[32m━━━━━━━━━━━━━━━━━━━━\u001b[0m\u001b[37m\u001b[0m \u001b[1m129s\u001b[0m 50ms/step - accuracy: 0.9981 - loss: 0.0070 - val_accuracy: 0.9921 - val_loss: 0.0452\n"
     ]
    }
   ],
   "source": [
    "history2 = model2.fit(x_train_dl, y_train_dl, batch_size = 16, epochs = 50, validation_split = 0.1)"
   ]
  },
  {
   "cell_type": "code",
   "execution_count": 118,
   "id": "a73cb112",
   "metadata": {},
   "outputs": [
    {
     "name": "stdout",
     "output_type": "stream",
     "text": [
      "\u001b[1m252/252\u001b[0m \u001b[32m━━━━━━━━━━━━━━━━━━━━\u001b[0m\u001b[37m\u001b[0m \u001b[1m4s\u001b[0m 15ms/step\n",
      "Accuracy: % 99.21739130434783\n",
      "That means that out of 8050 test samples, this model got 7987 correct and 63 incorrect\n"
     ]
    }
   ],
   "source": [
    "predictions2 = model2.predict(x_test_dl)\n",
    "predictions2 = (predictions2[:, 0] > 0.5).astype(np.int8)\n",
    "print(\"Accuracy: %\", accuracy_score(y_test_dl, predictions2) * 100)\n",
    "\n",
    "correct_preds2 = (y_test_dl == predictions2)\n",
    "print(\"That means that out of\", y_test_dl.shape[0] ,\"test samples, this model got\", \n",
    "      np.where(correct_preds2)[0].size, \"correct and\",\n",
    "      np.where(~correct_preds2)[0].size, \"incorrect\")"
   ]
  },
  {
   "cell_type": "code",
   "execution_count": 119,
   "id": "3a439686",
   "metadata": {},
   "outputs": [
    {
     "data": {
      "image/png": "[encoded data removed]",
      "text/plain": [
       "<Figure size 1000x800 with 2 Axes>"
      ]
     },
     "metadata": {},
     "output_type": "display_data"
    }
   ],
   "source": [
    "cm_dl2 = confusion_matrix(y_test_dl, predictions2)\n",
    "\n",
    "plt.figure(figsize=(10, 8))\n",
    "sns.heatmap(cm_dl2, cmap=\"viridis\", annot=True, fmt='g')\n",
    "plt.gca().set_xlabel(\"Predicted\", fontsize=16)\n",
    "plt.gca().set_ylabel(\"True\", fontsize = 16)\n",
    "plt.show()"
   ]
  },
  {
   "cell_type": "code",
   "execution_count": 120,
   "id": "66585599",
   "metadata": {},
   "outputs": [
    {
     "data": {
      "image/png": "[encoded data removed]",
      "text/plain": [
       "<Figure size 640x480 with 1 Axes>"
      ]
     },
     "metadata": {},
     "output_type": "display_data"
    }
   ],
   "source": [
    "plt.plot(history2.history['loss'], label='Train Loss')\n",
    "plt.plot(history2.history['val_loss'], label='Validation Loss')\n",
    "plt.legend()\n",
    "plt.show()"
   ]
  },
  {
   "cell_type": "code",
   "execution_count": 121,
   "id": "75333160",
   "metadata": {},
   "outputs": [
    {
     "data": {
      "image/png": "[encoded data removed]",
      "text/plain": [
       "<Figure size 640x480 with 1 Axes>"
      ]
     },
     "metadata": {},
     "output_type": "display_data"
    }
   ],
   "source": [
    "plt.plot(history2.history['accuracy'], label='Train accuracy')\n",
    "plt.plot(history2.history['val_accuracy'], label='Validation accuracy')\n",
    "plt.legend()\n",
    "plt.show()"
   ]
  },
  {
   "cell_type": "code",
   "execution_count": 122,
   "id": "17b0d7ac",
   "metadata": {},
   "outputs": [],
   "source": [
    "model2.save(f'{np.int32(accuracy_score(y_test_dl, predictions2) * 10000)}.keras')"
   ]
  },
  {
   "cell_type": "code",
   "execution_count": 5,
   "id": "feb2b3fa",
   "metadata": {},
   "outputs": [],
   "source": [
    "loaded_model = load_model('9925.keras')"
   ]
  },
  {
   "cell_type": "code",
   "execution_count": 6,
   "id": "f3fc5c73",
   "metadata": {},
   "outputs": [
    {
     "data": {
      "text/html": [
       "<pre style=\"white-space:pre;overflow-x:auto;line-height:normal;font-family:Menlo,'DejaVu Sans Mono',consolas,'Courier New',monospace\"><span style=\"font-weight: bold\">Model: \"sequential_4\"</span>\n",
       "</pre>\n"
      ],
      "text/plain": [
       "\u001b[1mModel: \"sequential_4\"\u001b[0m\n"
      ]
     },
     "metadata": {},
     "output_type": "display_data"
    },
    {
     "data": {
      "text/html": [
       "<pre style=\"white-space:pre;overflow-x:auto;line-height:normal;font-family:Menlo,'DejaVu Sans Mono',consolas,'Courier New',monospace\">┏━━━━━━━━━━━━━━━━━━━━━━━━━━━━━━━━━┳━━━━━━━━━━━━━━━━━━━━━━━━┳━━━━━━━━━━━━━━━┓\n",
       "┃<span style=\"font-weight: bold\"> Layer (type)                    </span>┃<span style=\"font-weight: bold\"> Output Shape           </span>┃<span style=\"font-weight: bold\">       Param # </span>┃\n",
       "┡━━━━━━━━━━━━━━━━━━━━━━━━━━━━━━━━━╇━━━━━━━━━━━━━━━━━━━━━━━━╇━━━━━━━━━━━━━━━┩\n",
       "│ dense_17 (<span style=\"color: #0087ff; text-decoration-color: #0087ff\">Dense</span>)                │ (<span style=\"color: #00d7ff; text-decoration-color: #00d7ff\">None</span>, <span style=\"color: #00af00; text-decoration-color: #00af00\">300</span>)            │        <span style=\"color: #00af00; text-decoration-color: #00af00\">90,300</span> │\n",
       "├─────────────────────────────────┼────────────────────────┼───────────────┤\n",
       "│ dense_18 (<span style=\"color: #0087ff; text-decoration-color: #0087ff\">Dense</span>)                │ (<span style=\"color: #00d7ff; text-decoration-color: #00d7ff\">None</span>, <span style=\"color: #00af00; text-decoration-color: #00af00\">600</span>)            │       <span style=\"color: #00af00; text-decoration-color: #00af00\">180,600</span> │\n",
       "├─────────────────────────────────┼────────────────────────┼───────────────┤\n",
       "│ dense_19 (<span style=\"color: #0087ff; text-decoration-color: #0087ff\">Dense</span>)                │ (<span style=\"color: #00d7ff; text-decoration-color: #00d7ff\">None</span>, <span style=\"color: #00af00; text-decoration-color: #00af00\">16</span>)             │         <span style=\"color: #00af00; text-decoration-color: #00af00\">9,616</span> │\n",
       "├─────────────────────────────────┼────────────────────────┼───────────────┤\n",
       "│ dense_20 (<span style=\"color: #0087ff; text-decoration-color: #0087ff\">Dense</span>)                │ (<span style=\"color: #00d7ff; text-decoration-color: #00d7ff\">None</span>, <span style=\"color: #00af00; text-decoration-color: #00af00\">1</span>)              │            <span style=\"color: #00af00; text-decoration-color: #00af00\">17</span> │\n",
       "└─────────────────────────────────┴────────────────────────┴───────────────┘\n",
       "</pre>\n"
      ],
      "text/plain": [
       "┏━━━━━━━━━━━━━━━━━━━━━━━━━━━━━━━━━┳━━━━━━━━━━━━━━━━━━━━━━━━┳━━━━━━━━━━━━━━━┓\n",
       "┃\u001b[1m \u001b[0m\u001b[1mLayer (type)                   \u001b[0m\u001b[1m \u001b[0m┃\u001b[1m \u001b[0m\u001b[1mOutput Shape          \u001b[0m\u001b[1m \u001b[0m┃\u001b[1m \u001b[0m\u001b[1m      Param #\u001b[0m\u001b[1m \u001b[0m┃\n",
       "┡━━━━━━━━━━━━━━━━━━━━━━━━━━━━━━━━━╇━━━━━━━━━━━━━━━━━━━━━━━━╇━━━━━━━━━━━━━━━┩\n",
       "│ dense_17 (\u001b[38;5;33mDense\u001b[0m)                │ (\u001b[38;5;45mNone\u001b[0m, \u001b[38;5;34m300\u001b[0m)            │        \u001b[38;5;34m90,300\u001b[0m │\n",
       "├─────────────────────────────────┼────────────────────────┼───────────────┤\n",
       "│ dense_18 (\u001b[38;5;33mDense\u001b[0m)                │ (\u001b[38;5;45mNone\u001b[0m, \u001b[38;5;34m600\u001b[0m)            │       \u001b[38;5;34m180,600\u001b[0m │\n",
       "├─────────────────────────────────┼────────────────────────┼───────────────┤\n",
       "│ dense_19 (\u001b[38;5;33mDense\u001b[0m)                │ (\u001b[38;5;45mNone\u001b[0m, \u001b[38;5;34m16\u001b[0m)             │         \u001b[38;5;34m9,616\u001b[0m │\n",
       "├─────────────────────────────────┼────────────────────────┼───────────────┤\n",
       "│ dense_20 (\u001b[38;5;33mDense\u001b[0m)                │ (\u001b[38;5;45mNone\u001b[0m, \u001b[38;5;34m1\u001b[0m)              │            \u001b[38;5;34m17\u001b[0m │\n",
       "└─────────────────────────────────┴────────────────────────┴───────────────┘\n"
      ]
     },
     "metadata": {},
     "output_type": "display_data"
    },
    {
     "data": {
      "text/html": [
       "<pre style=\"white-space:pre;overflow-x:auto;line-height:normal;font-family:Menlo,'DejaVu Sans Mono',consolas,'Courier New',monospace\"><span style=\"font-weight: bold\"> Total params: </span><span style=\"color: #00af00; text-decoration-color: #00af00\">841,601</span> (3.21 MB)\n",
       "</pre>\n"
      ],
      "text/plain": [
       "\u001b[1m Total params: \u001b[0m\u001b[38;5;34m841,601\u001b[0m (3.21 MB)\n"
      ]
     },
     "metadata": {},
     "output_type": "display_data"
    },
    {
     "data": {
      "text/html": [
       "<pre style=\"white-space:pre;overflow-x:auto;line-height:normal;font-family:Menlo,'DejaVu Sans Mono',consolas,'Courier New',monospace\"><span style=\"font-weight: bold\"> Trainable params: </span><span style=\"color: #00af00; text-decoration-color: #00af00\">280,533</span> (1.07 MB)\n",
       "</pre>\n"
      ],
      "text/plain": [
       "\u001b[1m Trainable params: \u001b[0m\u001b[38;5;34m280,533\u001b[0m (1.07 MB)\n"
      ]
     },
     "metadata": {},
     "output_type": "display_data"
    },
    {
     "data": {
      "text/html": [
       "<pre style=\"white-space:pre;overflow-x:auto;line-height:normal;font-family:Menlo,'DejaVu Sans Mono',consolas,'Courier New',monospace\"><span style=\"font-weight: bold\"> Non-trainable params: </span><span style=\"color: #00af00; text-decoration-color: #00af00\">0</span> (0.00 B)\n",
       "</pre>\n"
      ],
      "text/plain": [
       "\u001b[1m Non-trainable params: \u001b[0m\u001b[38;5;34m0\u001b[0m (0.00 B)\n"
      ]
     },
     "metadata": {},
     "output_type": "display_data"
    },
    {
     "data": {
      "text/html": [
       "<pre style=\"white-space:pre;overflow-x:auto;line-height:normal;font-family:Menlo,'DejaVu Sans Mono',consolas,'Courier New',monospace\"><span style=\"font-weight: bold\"> Optimizer params: </span><span style=\"color: #00af00; text-decoration-color: #00af00\">561,068</span> (2.14 MB)\n",
       "</pre>\n"
      ],
      "text/plain": [
       "\u001b[1m Optimizer params: \u001b[0m\u001b[38;5;34m561,068\u001b[0m (2.14 MB)\n"
      ]
     },
     "metadata": {},
     "output_type": "display_data"
    },
    {
     "data": {
      "text/plain": [
       "None"
      ]
     },
     "metadata": {},
     "output_type": "display_data"
    }
   ],
   "source": [
    "display(loaded_model.summary())"
   ]
  },
  {
   "cell_type": "code",
   "execution_count": 28,
   "id": "3cef97e7",
   "metadata": {},
   "outputs": [],
   "source": [
    "import keras\n",
    "from tensorflow import keras\n",
    "from keras.saving import load_model\n",
    "import spacy\n",
    "import pandas as pd\n",
    "\n",
    "nlp = spacy.load('en_core_web_lg')\n",
    "\n",
    "def preprocess(email : str) -> list:\n",
    "    vectors = []\n",
    "    doc = nlp(email)\n",
    "    vectors.append(doc.vector)\n",
    "    vector_df = pd.DataFrame(vectors) \n",
    "    return vector_df\n",
    "\n",
    "model = load_model(\"99254.keras\", )\n",
    "\n",
    "def email_classifier(email : str) -> str:\n",
    "    data = preprocess(email)\n",
    "    return 'safe' if model.predict(data) < 0.5 else 'not safe'"
   ]
  },
  {
   "cell_type": "code",
   "execution_count": 29,
   "id": "c0d5309a",
   "metadata": {},
   "outputs": [],
   "source": [
    "my_mail = \"Hello, next call will be on friday. Make sure you're not late!\""
   ]
  },
  {
   "cell_type": "code",
   "execution_count": 32,
   "id": "2a7bafcd",
   "metadata": {},
   "outputs": [
    {
     "data": {
      "text/html": [
       "<div>\n",
       "<style scoped>\n",
       "    .dataframe tbody tr th:only-of-type {\n",
       "        vertical-align: middle;\n",
       "    }\n",
       "\n",
       "    .dataframe tbody tr th {\n",
       "        vertical-align: top;\n",
       "    }\n",
       "\n",
       "    .dataframe thead th {\n",
       "        text-align: right;\n",
       "    }\n",
       "</style>\n",
       "<table border=\"1\" class=\"dataframe\">\n",
       "  <thead>\n",
       "    <tr style=\"text-align: right;\">\n",
       "      <th></th>\n",
       "      <th>0</th>\n",
       "      <th>1</th>\n",
       "      <th>2</th>\n",
       "      <th>3</th>\n",
       "      <th>4</th>\n",
       "      <th>5</th>\n",
       "      <th>6</th>\n",
       "      <th>7</th>\n",
       "      <th>8</th>\n",
       "      <th>9</th>\n",
       "      <th>...</th>\n",
       "      <th>290</th>\n",
       "      <th>291</th>\n",
       "      <th>292</th>\n",
       "      <th>293</th>\n",
       "      <th>294</th>\n",
       "      <th>295</th>\n",
       "      <th>296</th>\n",
       "      <th>297</th>\n",
       "      <th>298</th>\n",
       "      <th>299</th>\n",
       "    </tr>\n",
       "  </thead>\n",
       "  <tbody>\n",
       "    <tr>\n",
       "      <th>0</th>\n",
       "      <td>-0.022679</td>\n",
       "      <td>0.266329</td>\n",
       "      <td>-0.260835</td>\n",
       "      <td>-0.034268</td>\n",
       "      <td>0.186863</td>\n",
       "      <td>-0.067189</td>\n",
       "      <td>0.041367</td>\n",
       "      <td>-0.201233</td>\n",
       "      <td>-0.041453</td>\n",
       "      <td>2.210121</td>\n",
       "      <td>...</td>\n",
       "      <td>-0.152019</td>\n",
       "      <td>0.101052</td>\n",
       "      <td>-0.110113</td>\n",
       "      <td>-0.10047</td>\n",
       "      <td>0.116232</td>\n",
       "      <td>-0.066732</td>\n",
       "      <td>-0.048245</td>\n",
       "      <td>-0.074463</td>\n",
       "      <td>-0.052355</td>\n",
       "      <td>0.129089</td>\n",
       "    </tr>\n",
       "  </tbody>\n",
       "</table>\n",
       "<p>1 rows × 300 columns</p>\n",
       "</div>"
      ],
      "text/plain": [
       "        0         1         2         3         4         5         6    \\\n",
       "0 -0.022679  0.266329 -0.260835 -0.034268  0.186863 -0.067189  0.041367   \n",
       "\n",
       "        7         8         9    ...       290       291       292      293  \\\n",
       "0 -0.201233 -0.041453  2.210121  ... -0.152019  0.101052 -0.110113 -0.10047   \n",
       "\n",
       "        294       295       296       297       298       299  \n",
       "0  0.116232 -0.066732 -0.048245 -0.074463 -0.052355  0.129089  \n",
       "\n",
       "[1 rows x 300 columns]"
      ]
     },
     "execution_count": 32,
     "metadata": {},
     "output_type": "execute_result"
    }
   ],
   "source": [
    "preprocess(my_mail)"
   ]
  },
  {
   "cell_type": "code",
   "execution_count": 35,
   "id": "84d63048",
   "metadata": {},
   "outputs": [
    {
     "name": "stdout",
     "output_type": "stream",
     "text": [
      "\u001b[1m1/1\u001b[0m \u001b[32m━━━━━━━━━━━━━━━━━━━━\u001b[0m\u001b[37m\u001b[0m \u001b[1m0s\u001b[0m 24ms/step\n"
     ]
    },
    {
     "data": {
      "text/plain": [
       "np.float32(0.9289962)"
      ]
     },
     "execution_count": 35,
     "metadata": {},
     "output_type": "execute_result"
    }
   ],
   "source": [
    "model.predict(preprocess(my_mail))[0][0]"
   ]
  },
  {
   "cell_type": "code",
   "execution_count": 31,
   "id": "82c2596b",
   "metadata": {},
   "outputs": [
    {
     "data": {
      "text/html": [
       "<div>\n",
       "<style scoped>\n",
       "    .dataframe tbody tr th:only-of-type {\n",
       "        vertical-align: middle;\n",
       "    }\n",
       "\n",
       "    .dataframe tbody tr th {\n",
       "        vertical-align: top;\n",
       "    }\n",
       "\n",
       "    .dataframe thead th {\n",
       "        text-align: right;\n",
       "    }\n",
       "</style>\n",
       "<table border=\"1\" class=\"dataframe\">\n",
       "  <thead>\n",
       "    <tr style=\"text-align: right;\">\n",
       "      <th></th>\n",
       "      <th>0</th>\n",
       "      <th>1</th>\n",
       "      <th>2</th>\n",
       "      <th>3</th>\n",
       "      <th>4</th>\n",
       "      <th>5</th>\n",
       "      <th>6</th>\n",
       "      <th>7</th>\n",
       "      <th>8</th>\n",
       "      <th>9</th>\n",
       "      <th>...</th>\n",
       "      <th>290</th>\n",
       "      <th>291</th>\n",
       "      <th>292</th>\n",
       "      <th>293</th>\n",
       "      <th>294</th>\n",
       "      <th>295</th>\n",
       "      <th>296</th>\n",
       "      <th>297</th>\n",
       "      <th>298</th>\n",
       "      <th>299</th>\n",
       "    </tr>\n",
       "  </thead>\n",
       "  <tbody>\n",
       "    <tr>\n",
       "      <th>10474</th>\n",
       "      <td>0.156814</td>\n",
       "      <td>0.016978</td>\n",
       "      <td>-0.061544</td>\n",
       "      <td>-0.023634</td>\n",
       "      <td>0.097520</td>\n",
       "      <td>0.182195</td>\n",
       "      <td>0.041575</td>\n",
       "      <td>-0.083003</td>\n",
       "      <td>0.031921</td>\n",
       "      <td>0.492850</td>\n",
       "      <td>...</td>\n",
       "      <td>0.053124</td>\n",
       "      <td>0.075066</td>\n",
       "      <td>-0.079182</td>\n",
       "      <td>0.017400</td>\n",
       "      <td>0.000364</td>\n",
       "      <td>-0.092288</td>\n",
       "      <td>-0.018832</td>\n",
       "      <td>-0.051939</td>\n",
       "      <td>-0.106093</td>\n",
       "      <td>0.062014</td>\n",
       "    </tr>\n",
       "    <tr>\n",
       "      <th>5158</th>\n",
       "      <td>-0.109280</td>\n",
       "      <td>0.069071</td>\n",
       "      <td>-0.177251</td>\n",
       "      <td>-0.039993</td>\n",
       "      <td>0.089192</td>\n",
       "      <td>-0.026399</td>\n",
       "      <td>0.034539</td>\n",
       "      <td>-0.065776</td>\n",
       "      <td>0.055720</td>\n",
       "      <td>1.987560</td>\n",
       "      <td>...</td>\n",
       "      <td>-0.214946</td>\n",
       "      <td>-0.012903</td>\n",
       "      <td>-0.061507</td>\n",
       "      <td>0.008319</td>\n",
       "      <td>-0.011002</td>\n",
       "      <td>-0.058226</td>\n",
       "      <td>-0.005593</td>\n",
       "      <td>-0.155620</td>\n",
       "      <td>0.049298</td>\n",
       "      <td>0.179529</td>\n",
       "    </tr>\n",
       "    <tr>\n",
       "      <th>31756</th>\n",
       "      <td>0.108368</td>\n",
       "      <td>0.030520</td>\n",
       "      <td>-0.002181</td>\n",
       "      <td>-0.018630</td>\n",
       "      <td>0.107112</td>\n",
       "      <td>0.181198</td>\n",
       "      <td>0.082671</td>\n",
       "      <td>0.011141</td>\n",
       "      <td>0.016772</td>\n",
       "      <td>0.288210</td>\n",
       "      <td>...</td>\n",
       "      <td>0.111217</td>\n",
       "      <td>-0.034290</td>\n",
       "      <td>-0.099457</td>\n",
       "      <td>-0.069632</td>\n",
       "      <td>-0.048473</td>\n",
       "      <td>-0.080185</td>\n",
       "      <td>0.037432</td>\n",
       "      <td>-0.046149</td>\n",
       "      <td>-0.092386</td>\n",
       "      <td>0.019827</td>\n",
       "    </tr>\n",
       "    <tr>\n",
       "      <th>18427</th>\n",
       "      <td>-0.033445</td>\n",
       "      <td>0.133653</td>\n",
       "      <td>-0.122322</td>\n",
       "      <td>-0.047900</td>\n",
       "      <td>0.055371</td>\n",
       "      <td>-0.056864</td>\n",
       "      <td>0.031077</td>\n",
       "      <td>-0.055423</td>\n",
       "      <td>0.015231</td>\n",
       "      <td>2.070787</td>\n",
       "      <td>...</td>\n",
       "      <td>-0.155917</td>\n",
       "      <td>0.024314</td>\n",
       "      <td>-0.044680</td>\n",
       "      <td>-0.062524</td>\n",
       "      <td>0.046042</td>\n",
       "      <td>-0.034619</td>\n",
       "      <td>-0.049903</td>\n",
       "      <td>-0.024093</td>\n",
       "      <td>0.019830</td>\n",
       "      <td>0.089361</td>\n",
       "    </tr>\n",
       "    <tr>\n",
       "      <th>29940</th>\n",
       "      <td>-0.010471</td>\n",
       "      <td>0.156100</td>\n",
       "      <td>-0.151103</td>\n",
       "      <td>-0.032013</td>\n",
       "      <td>-0.003685</td>\n",
       "      <td>0.054399</td>\n",
       "      <td>0.020183</td>\n",
       "      <td>-0.193937</td>\n",
       "      <td>0.019758</td>\n",
       "      <td>1.588741</td>\n",
       "      <td>...</td>\n",
       "      <td>-0.107687</td>\n",
       "      <td>-0.021420</td>\n",
       "      <td>0.006615</td>\n",
       "      <td>-0.042578</td>\n",
       "      <td>0.075979</td>\n",
       "      <td>-0.037696</td>\n",
       "      <td>0.020261</td>\n",
       "      <td>-0.089781</td>\n",
       "      <td>-0.016129</td>\n",
       "      <td>0.140351</td>\n",
       "    </tr>\n",
       "    <tr>\n",
       "      <th>...</th>\n",
       "      <td>...</td>\n",
       "      <td>...</td>\n",
       "      <td>...</td>\n",
       "      <td>...</td>\n",
       "      <td>...</td>\n",
       "      <td>...</td>\n",
       "      <td>...</td>\n",
       "      <td>...</td>\n",
       "      <td>...</td>\n",
       "      <td>...</td>\n",
       "      <td>...</td>\n",
       "      <td>...</td>\n",
       "      <td>...</td>\n",
       "      <td>...</td>\n",
       "      <td>...</td>\n",
       "      <td>...</td>\n",
       "      <td>...</td>\n",
       "      <td>...</td>\n",
       "      <td>...</td>\n",
       "      <td>...</td>\n",
       "      <td>...</td>\n",
       "    </tr>\n",
       "    <tr>\n",
       "      <th>24526</th>\n",
       "      <td>0.035486</td>\n",
       "      <td>0.042384</td>\n",
       "      <td>-0.232889</td>\n",
       "      <td>-0.070095</td>\n",
       "      <td>0.062431</td>\n",
       "      <td>0.111817</td>\n",
       "      <td>0.077988</td>\n",
       "      <td>-0.161554</td>\n",
       "      <td>0.061654</td>\n",
       "      <td>1.780824</td>\n",
       "      <td>...</td>\n",
       "      <td>-0.153614</td>\n",
       "      <td>0.028464</td>\n",
       "      <td>0.010114</td>\n",
       "      <td>-0.051620</td>\n",
       "      <td>0.042443</td>\n",
       "      <td>-0.078367</td>\n",
       "      <td>-0.038873</td>\n",
       "      <td>-0.075810</td>\n",
       "      <td>0.029165</td>\n",
       "      <td>0.144542</td>\n",
       "    </tr>\n",
       "    <tr>\n",
       "      <th>13734</th>\n",
       "      <td>-0.075624</td>\n",
       "      <td>0.111940</td>\n",
       "      <td>-0.208920</td>\n",
       "      <td>-0.039653</td>\n",
       "      <td>0.007514</td>\n",
       "      <td>0.139429</td>\n",
       "      <td>0.070398</td>\n",
       "      <td>-0.166940</td>\n",
       "      <td>0.019656</td>\n",
       "      <td>1.724558</td>\n",
       "      <td>...</td>\n",
       "      <td>-0.080760</td>\n",
       "      <td>0.035150</td>\n",
       "      <td>0.018141</td>\n",
       "      <td>0.000752</td>\n",
       "      <td>0.131806</td>\n",
       "      <td>-0.096026</td>\n",
       "      <td>-0.039155</td>\n",
       "      <td>-0.055078</td>\n",
       "      <td>0.007931</td>\n",
       "      <td>0.156190</td>\n",
       "    </tr>\n",
       "    <tr>\n",
       "      <th>45003</th>\n",
       "      <td>0.018680</td>\n",
       "      <td>0.091736</td>\n",
       "      <td>-0.158657</td>\n",
       "      <td>-0.019549</td>\n",
       "      <td>0.072634</td>\n",
       "      <td>0.067272</td>\n",
       "      <td>0.019631</td>\n",
       "      <td>-0.123689</td>\n",
       "      <td>0.060165</td>\n",
       "      <td>1.911121</td>\n",
       "      <td>...</td>\n",
       "      <td>-0.181800</td>\n",
       "      <td>0.025148</td>\n",
       "      <td>-0.002272</td>\n",
       "      <td>0.012841</td>\n",
       "      <td>0.020529</td>\n",
       "      <td>-0.037189</td>\n",
       "      <td>-0.063283</td>\n",
       "      <td>-0.068316</td>\n",
       "      <td>0.030525</td>\n",
       "      <td>0.107428</td>\n",
       "    </tr>\n",
       "    <tr>\n",
       "      <th>39436</th>\n",
       "      <td>-0.012312</td>\n",
       "      <td>0.012927</td>\n",
       "      <td>-0.034341</td>\n",
       "      <td>-0.021895</td>\n",
       "      <td>0.101416</td>\n",
       "      <td>-0.092845</td>\n",
       "      <td>0.006573</td>\n",
       "      <td>-0.092519</td>\n",
       "      <td>0.038026</td>\n",
       "      <td>1.772204</td>\n",
       "      <td>...</td>\n",
       "      <td>-0.084745</td>\n",
       "      <td>-0.013249</td>\n",
       "      <td>-0.018110</td>\n",
       "      <td>-0.071670</td>\n",
       "      <td>0.051604</td>\n",
       "      <td>0.008495</td>\n",
       "      <td>0.012797</td>\n",
       "      <td>-0.057913</td>\n",
       "      <td>0.065750</td>\n",
       "      <td>0.080116</td>\n",
       "    </tr>\n",
       "    <tr>\n",
       "      <th>46605</th>\n",
       "      <td>0.007755</td>\n",
       "      <td>0.222222</td>\n",
       "      <td>-0.299619</td>\n",
       "      <td>0.019489</td>\n",
       "      <td>0.084785</td>\n",
       "      <td>0.094459</td>\n",
       "      <td>0.049271</td>\n",
       "      <td>-0.241885</td>\n",
       "      <td>-0.074483</td>\n",
       "      <td>1.963886</td>\n",
       "      <td>...</td>\n",
       "      <td>-0.121478</td>\n",
       "      <td>-0.009269</td>\n",
       "      <td>0.009263</td>\n",
       "      <td>-0.021158</td>\n",
       "      <td>0.189231</td>\n",
       "      <td>-0.013905</td>\n",
       "      <td>-0.062236</td>\n",
       "      <td>-0.081126</td>\n",
       "      <td>-0.051726</td>\n",
       "      <td>0.171988</td>\n",
       "    </tr>\n",
       "  </tbody>\n",
       "</table>\n",
       "<p>8050 rows × 300 columns</p>\n",
       "</div>"
      ],
      "text/plain": [
       "            0         1         2         3         4         5         6    \\\n",
       "10474  0.156814  0.016978 -0.061544 -0.023634  0.097520  0.182195  0.041575   \n",
       "5158  -0.109280  0.069071 -0.177251 -0.039993  0.089192 -0.026399  0.034539   \n",
       "31756  0.108368  0.030520 -0.002181 -0.018630  0.107112  0.181198  0.082671   \n",
       "18427 -0.033445  0.133653 -0.122322 -0.047900  0.055371 -0.056864  0.031077   \n",
       "29940 -0.010471  0.156100 -0.151103 -0.032013 -0.003685  0.054399  0.020183   \n",
       "...         ...       ...       ...       ...       ...       ...       ...   \n",
       "24526  0.035486  0.042384 -0.232889 -0.070095  0.062431  0.111817  0.077988   \n",
       "13734 -0.075624  0.111940 -0.208920 -0.039653  0.007514  0.139429  0.070398   \n",
       "45003  0.018680  0.091736 -0.158657 -0.019549  0.072634  0.067272  0.019631   \n",
       "39436 -0.012312  0.012927 -0.034341 -0.021895  0.101416 -0.092845  0.006573   \n",
       "46605  0.007755  0.222222 -0.299619  0.019489  0.084785  0.094459  0.049271   \n",
       "\n",
       "            7         8         9    ...       290       291       292  \\\n",
       "10474 -0.083003  0.031921  0.492850  ...  0.053124  0.075066 -0.079182   \n",
       "5158  -0.065776  0.055720  1.987560  ... -0.214946 -0.012903 -0.061507   \n",
       "31756  0.011141  0.016772  0.288210  ...  0.111217 -0.034290 -0.099457   \n",
       "18427 -0.055423  0.015231  2.070787  ... -0.155917  0.024314 -0.044680   \n",
       "29940 -0.193937  0.019758  1.588741  ... -0.107687 -0.021420  0.006615   \n",
       "...         ...       ...       ...  ...       ...       ...       ...   \n",
       "24526 -0.161554  0.061654  1.780824  ... -0.153614  0.028464  0.010114   \n",
       "13734 -0.166940  0.019656  1.724558  ... -0.080760  0.035150  0.018141   \n",
       "45003 -0.123689  0.060165  1.911121  ... -0.181800  0.025148 -0.002272   \n",
       "39436 -0.092519  0.038026  1.772204  ... -0.084745 -0.013249 -0.018110   \n",
       "46605 -0.241885 -0.074483  1.963886  ... -0.121478 -0.009269  0.009263   \n",
       "\n",
       "            293       294       295       296       297       298       299  \n",
       "10474  0.017400  0.000364 -0.092288 -0.018832 -0.051939 -0.106093  0.062014  \n",
       "5158   0.008319 -0.011002 -0.058226 -0.005593 -0.155620  0.049298  0.179529  \n",
       "31756 -0.069632 -0.048473 -0.080185  0.037432 -0.046149 -0.092386  0.019827  \n",
       "18427 -0.062524  0.046042 -0.034619 -0.049903 -0.024093  0.019830  0.089361  \n",
       "29940 -0.042578  0.075979 -0.037696  0.020261 -0.089781 -0.016129  0.140351  \n",
       "...         ...       ...       ...       ...       ...       ...       ...  \n",
       "24526 -0.051620  0.042443 -0.078367 -0.038873 -0.075810  0.029165  0.144542  \n",
       "13734  0.000752  0.131806 -0.096026 -0.039155 -0.055078  0.007931  0.156190  \n",
       "45003  0.012841  0.020529 -0.037189 -0.063283 -0.068316  0.030525  0.107428  \n",
       "39436 -0.071670  0.051604  0.008495  0.012797 -0.057913  0.065750  0.080116  \n",
       "46605 -0.021158  0.189231 -0.013905 -0.062236 -0.081126 -0.051726  0.171988  \n",
       "\n",
       "[8050 rows x 300 columns]"
      ]
     },
     "execution_count": 31,
     "metadata": {},
     "output_type": "execute_result"
    }
   ],
   "source": [
    "x_test_dl"
   ]
  },
  {
   "cell_type": "code",
   "execution_count": 30,
   "id": "9ddf84d0",
   "metadata": {},
   "outputs": [
    {
     "name": "stdout",
     "output_type": "stream",
     "text": [
      "\u001b[1m252/252\u001b[0m \u001b[32m━━━━━━━━━━━━━━━━━━━━\u001b[0m\u001b[37m\u001b[0m \u001b[1m1s\u001b[0m 2ms/step\n"
     ]
    },
    {
     "data": {
      "text/plain": [
       "array([[2.2829994e-36],\n",
       "       [1.0000000e+00],\n",
       "       [1.9891845e-31],\n",
       "       ...,\n",
       "       [1.9422612e-04],\n",
       "       [9.9998635e-01],\n",
       "       [1.0000000e+00]], dtype=float32)"
      ]
     },
     "execution_count": 30,
     "metadata": {},
     "output_type": "execute_result"
    }
   ],
   "source": [
    "model.predict(x_test_dl)"
   ]
  },
  {
   "cell_type": "code",
   "execution_count": 36,
   "id": "e56eb624",
   "metadata": {},
   "outputs": [
    {
     "name": "stdout",
     "output_type": "stream",
     "text": [
      "\u001b[1m1/1\u001b[0m \u001b[32m━━━━━━━━━━━━━━━━━━━━\u001b[0m\u001b[37m\u001b[0m \u001b[1m0s\u001b[0m 24ms/step\n"
     ]
    },
    {
     "data": {
      "text/plain": [
       "'not safe'"
      ]
     },
     "execution_count": 36,
     "metadata": {},
     "output_type": "execute_result"
    }
   ],
   "source": [
    "email_classifier(my_mail)"
   ]
  }
 ],
 "metadata": {
  "kernelspec": {
   "display_name": "py_emails",
   "language": "python",
   "name": "python3"
  },
  "language_info": {
   "codemirror_mode": {
    "name": "ipython",
    "version": 3
   },
   "file_extension": ".py",
   "mimetype": "text/x-python",
   "name": "python",
   "nbconvert_exporter": "python",
   "pygments_lexer": "ipython3",
   "version": "3.11.11"
  }
 },
 "nbformat": 4,
 "nbformat_minor": 5
}
